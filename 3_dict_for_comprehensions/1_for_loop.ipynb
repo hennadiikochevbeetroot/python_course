{
 "cells": [
  {
   "cell_type": "code",
   "metadata": {
    "ExecuteTime": {
     "end_time": "2024-07-19T21:37:23.791319Z",
     "start_time": "2024-07-19T21:37:23.787193Z"
    }
   },
   "source": [
    "a_list = [1, 2, 3, 4, 5]"
   ],
   "outputs": [],
   "execution_count": 2
  },
  {
   "cell_type": "code",
   "metadata": {
    "ExecuteTime": {
     "end_time": "2024-07-19T21:37:23.805851Z",
     "start_time": "2024-07-19T21:37:23.792828Z"
    }
   },
   "source": [
    "i = 0\n",
    "while i < len(a_list):\n",
    "    print(a_list[i])\n",
    "    i += 1"
   ],
   "outputs": [
    {
     "name": "stdout",
     "output_type": "stream",
     "text": [
      "1\n",
      "2\n",
      "3\n",
      "4\n",
      "5\n"
     ]
    }
   ],
   "execution_count": 3
  },
  {
   "cell_type": "code",
   "metadata": {
    "ExecuteTime": {
     "end_time": "2024-07-19T21:37:23.809983Z",
     "start_time": "2024-07-19T21:37:23.806857Z"
    }
   },
   "source": [
    "for item in a_list:   # Better way to loop over objects\n",
    "    print(item)"
   ],
   "outputs": [
    {
     "name": "stdout",
     "output_type": "stream",
     "text": [
      "1\n",
      "2\n",
      "3\n",
      "4\n",
      "5\n"
     ]
    }
   ],
   "execution_count": 4
  },
  {
   "cell_type": "code",
   "metadata": {
    "ExecuteTime": {
     "end_time": "2024-07-20T11:39:41.054411Z",
     "start_time": "2024-07-20T11:39:41.050410Z"
    }
   },
   "source": [
    "a_list = [1, 2, 3, 4, 5]\n",
    "for ind, item in enumerate(a_list):   # Yield index (default start 0) and iterable element\n",
    "    print(ind, item)"
   ],
   "outputs": [
    {
     "name": "stdout",
     "output_type": "stream",
     "text": [
      "10 1\n",
      "11 2\n",
      "12 3\n",
      "13 4\n",
      "14 5\n"
     ]
    }
   ],
   "execution_count": 2
  },
  {
   "cell_type": "code",
   "metadata": {
    "ExecuteTime": {
     "end_time": "2024-07-19T21:37:23.819100Z",
     "start_time": "2024-07-19T21:37:23.816043Z"
    }
   },
   "source": [
    "for i in range(len(a_list)):    # Iterating when we need current index\n",
    "    print(a_list[i])"
   ],
   "outputs": [
    {
     "name": "stdout",
     "output_type": "stream",
     "text": [
      "1\n",
      "2\n",
      "3\n",
      "4\n",
      "5\n"
     ]
    }
   ],
   "execution_count": 6
  },
  {
   "cell_type": "code",
   "metadata": {
    "ExecuteTime": {
     "end_time": "2024-07-19T21:37:23.823278Z",
     "start_time": "2024-07-19T21:37:23.820105Z"
    }
   },
   "source": [
    "for item in a_list:   \n",
    "    if item == 2:   \n",
    "        continue\n",
    "    print(item)"
   ],
   "outputs": [
    {
     "name": "stdout",
     "output_type": "stream",
     "text": [
      "1\n",
      "3\n",
      "4\n",
      "5\n"
     ]
    }
   ],
   "execution_count": 7
  },
  {
   "cell_type": "code",
   "metadata": {
    "ExecuteTime": {
     "end_time": "2024-07-20T11:44:56.627037Z",
     "start_time": "2024-07-20T11:44:33.612741Z"
    }
   },
   "source": [
    "a_list = [1, 2, 3, 4, 5]\n",
    "for item in a_list:\n",
    "    # if item == 4:\n",
    "    #     break\n",
    "    print(item)\n",
    "else:            \n",
    "    print(\"break was not executed\")      # If break was not executed"
   ],
   "outputs": [
    {
     "name": "stdout",
     "output_type": "stream",
     "text": [
      "1\n",
      "2\n",
      "3\n",
      "4\n",
      "5\n",
      "break was not executed\n"
     ]
    }
   ],
   "execution_count": 4
  },
  {
   "metadata": {
    "ExecuteTime": {
     "end_time": "2024-07-19T21:37:23.829904Z",
     "start_time": "2024-07-19T21:37:23.827938Z"
    }
   },
   "cell_type": "code",
   "source": "",
   "outputs": [],
   "execution_count": 8
  }
 ],
 "metadata": {
  "kernelspec": {
   "display_name": "Python 3",
   "language": "python",
   "name": "python3"
  },
  "language_info": {
   "codemirror_mode": {
    "name": "ipython",
    "version": 3
   },
   "file_extension": ".py",
   "mimetype": "text/x-python",
   "name": "python",
   "nbconvert_exporter": "python",
   "pygments_lexer": "ipython3",
   "version": "3.7.4"
  }
 },
 "nbformat": 4,
 "nbformat_minor": 2
}
