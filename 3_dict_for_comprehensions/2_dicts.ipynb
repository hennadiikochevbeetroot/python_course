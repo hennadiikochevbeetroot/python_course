{
 "cells": [
  {
   "cell_type": "markdown",
   "metadata": {},
   "source": "Dictionaries are sometimes found in other languages as “associative arrays”, \"hashmaps\", \"hashes\", \"maps\"."
  },
  {
   "cell_type": "markdown",
   "metadata": {},
   "source": [
    "Unlike sequences, which are indexed by a range of numbers, dictionaries are indexed by keys, which can be any immutable type; strings and numbers can always be keys. Tuples can be used as keys if they contain only strings, numbers, or tuples; if a tuple contains any mutable object either directly or indirectly, it cannot be used as a key"
   ]
  },
  {
   "cell_type": "code",
   "metadata": {
    "ExecuteTime": {
     "end_time": "2024-07-19T21:24:59.117029Z",
     "start_time": "2024-07-19T21:24:59.113612Z"
    }
   },
   "source": [
    "a_list = []\n",
    "a_dict = {}"
   ],
   "outputs": [],
   "execution_count": 1
  },
  {
   "cell_type": "code",
   "metadata": {
    "ExecuteTime": {
     "end_time": "2024-07-19T21:24:59.121184Z",
     "start_time": "2024-07-19T21:24:59.118032Z"
    }
   },
   "source": [
    "a_list = list()\n",
    "a_dict = dict()"
   ],
   "outputs": [],
   "execution_count": 2
  },
  {
   "cell_type": "code",
   "metadata": {
    "ExecuteTime": {
     "end_time": "2024-07-19T21:24:59.125368Z",
     "start_time": "2024-07-19T21:24:59.122188Z"
    }
   },
   "source": "a_dict = {'hello': 'world', 'hello': 'world'}  # Key value storage - key hashable",
   "outputs": [],
   "execution_count": 3
  },
  {
   "cell_type": "code",
   "metadata": {
    "ExecuteTime": {
     "end_time": "2024-07-19T21:24:59.129742Z",
     "start_time": "2024-07-19T21:24:59.126372Z"
    }
   },
   "source": [
    "print(a_dict)"
   ],
   "outputs": [
    {
     "name": "stdout",
     "output_type": "stream",
     "text": [
      "{'hello': 'world'}\n"
     ]
    }
   ],
   "execution_count": 4
  },
  {
   "cell_type": "code",
   "metadata": {
    "ExecuteTime": {
     "end_time": "2024-07-19T21:24:59.133861Z",
     "start_time": "2024-07-19T21:24:59.130747Z"
    }
   },
   "source": "a_dict = dict([('hello', 'world')])  # Iterable with key value tuples",
   "outputs": [],
   "execution_count": 5
  },
  {
   "cell_type": "code",
   "metadata": {
    "ExecuteTime": {
     "end_time": "2024-07-19T21:24:59.137797Z",
     "start_time": "2024-07-19T21:24:59.134865Z"
    }
   },
   "source": [
    "# Keyword parameters translated into dict\n",
    "a_dict = dict(\n",
    "    hello='world'\n",
    ")"
   ],
   "outputs": [],
   "execution_count": 6
  },
  {
   "cell_type": "code",
   "metadata": {
    "ExecuteTime": {
     "end_time": "2024-07-19T21:24:59.141975Z",
     "start_time": "2024-07-19T21:24:59.138800Z"
    }
   },
   "source": [
    "print(a_dict)"
   ],
   "outputs": [
    {
     "name": "stdout",
     "output_type": "stream",
     "text": [
      "{'hello': 'world'}\n"
     ]
    }
   ],
   "execution_count": 7
  },
  {
   "cell_type": "code",
   "metadata": {
    "ExecuteTime": {
     "end_time": "2024-07-19T21:24:59.148121Z",
     "start_time": "2024-07-19T21:24:59.142979Z"
    }
   },
   "source": "a_dict['hello']    # Accessing by key name - search in dict O(1)",
   "outputs": [
    {
     "data": {
      "text/plain": [
       "'world'"
      ]
     },
     "execution_count": 8,
     "metadata": {},
     "output_type": "execute_result"
    }
   ],
   "execution_count": 8
  },
  {
   "cell_type": "code",
   "metadata": {
    "ExecuteTime": {
     "end_time": "2024-07-19T21:24:59.366020Z",
     "start_time": "2024-07-19T21:24:59.149126Z"
    }
   },
   "source": "a_dict['hello1']   # Raises KeyError on non-existing keys",
   "outputs": [
    {
     "ename": "KeyError",
     "evalue": "'hello1'",
     "output_type": "error",
     "traceback": [
      "\u001B[1;31m---------------------------------------------------------------------------\u001B[0m",
      "\u001B[1;31mKeyError\u001B[0m                                  Traceback (most recent call last)",
      "Cell \u001B[1;32mIn[9], line 1\u001B[0m\n\u001B[1;32m----> 1\u001B[0m \u001B[43ma_dict\u001B[49m\u001B[43m[\u001B[49m\u001B[38;5;124;43m'\u001B[39;49m\u001B[38;5;124;43mhello1\u001B[39;49m\u001B[38;5;124;43m'\u001B[39;49m\u001B[43m]\u001B[49m   \u001B[38;5;66;03m# Raises KeyError on non-existing keys\u001B[39;00m\n",
      "\u001B[1;31mKeyError\u001B[0m: 'hello1'"
     ]
    }
   ],
   "execution_count": 9
  },
  {
   "cell_type": "code",
   "metadata": {
    "ExecuteTime": {
     "end_time": "2024-07-19T21:25:10.276059Z",
     "start_time": "2024-07-19T21:25:10.271972Z"
    }
   },
   "source": "x = a_dict.get('hello1')    # Safe way to get value by key, without error",
   "outputs": [],
   "execution_count": 10
  },
  {
   "cell_type": "code",
   "metadata": {
    "ExecuteTime": {
     "end_time": "2024-07-19T21:25:10.897892Z",
     "start_time": "2024-07-19T21:25:10.894150Z"
    }
   },
   "source": [
    "print(x)"
   ],
   "outputs": [
    {
     "name": "stdout",
     "output_type": "stream",
     "text": [
      "None\n"
     ]
    }
   ],
   "execution_count": 11
  },
  {
   "cell_type": "code",
   "metadata": {
    "ExecuteTime": {
     "end_time": "2024-07-19T21:25:11.312011Z",
     "start_time": "2024-07-19T21:25:11.306468Z"
    }
   },
   "source": [
    "x = a_dict.get('hello1', '1')  # Second parameter is default value if no such key\n",
    "x"
   ],
   "outputs": [
    {
     "data": {
      "text/plain": [
       "'1'"
      ]
     },
     "execution_count": 12,
     "metadata": {},
     "output_type": "execute_result"
    }
   ],
   "execution_count": 12
  },
  {
   "cell_type": "code",
   "metadata": {
    "ExecuteTime": {
     "end_time": "2024-07-19T21:25:11.645649Z",
     "start_time": "2024-07-19T21:25:11.642123Z"
    }
   },
   "source": "a_dict['hello1'] = 'world1'    # Key value assignment",
   "outputs": [],
   "execution_count": 13
  },
  {
   "cell_type": "code",
   "metadata": {
    "ExecuteTime": {
     "end_time": "2024-07-19T21:25:11.968821Z",
     "start_time": "2024-07-19T21:25:11.964798Z"
    }
   },
   "source": [
    "print(a_dict)"
   ],
   "outputs": [
    {
     "name": "stdout",
     "output_type": "stream",
     "text": [
      "{'hello': 'world', 'hello1': 'world1'}\n"
     ]
    }
   ],
   "execution_count": 14
  },
  {
   "cell_type": "code",
   "metadata": {
    "ExecuteTime": {
     "end_time": "2024-07-19T21:25:12.289807Z",
     "start_time": "2024-07-19T21:25:12.286041Z"
    }
   },
   "source": [
    "a_dict['hello'] = 'WORLD'"
   ],
   "outputs": [],
   "execution_count": 15
  },
  {
   "cell_type": "code",
   "metadata": {
    "ExecuteTime": {
     "end_time": "2024-07-19T21:25:12.663539Z",
     "start_time": "2024-07-19T21:25:12.660570Z"
    }
   },
   "source": [
    "print(a_dict)\n"
   ],
   "outputs": [
    {
     "name": "stdout",
     "output_type": "stream",
     "text": [
      "{'hello': 'WORLD', 'hello1': 'world1'}\n"
     ]
    }
   ],
   "execution_count": 16
  },
  {
   "cell_type": "code",
   "metadata": {
    "ExecuteTime": {
     "end_time": "2024-07-19T21:25:12.986300Z",
     "start_time": "2024-07-19T21:25:12.982263Z"
    }
   },
   "source": [
    "a_dict.update({1: 2})      # Like extend for lists\n",
    "a_dict |= {3: 4}        # Newer operator\n",
    "print(a_dict)"
   ],
   "outputs": [
    {
     "name": "stdout",
     "output_type": "stream",
     "text": [
      "{'hello': 'WORLD', 'hello1': 'world1', 1: 2, 3: 4}\n"
     ]
    }
   ],
   "execution_count": 17
  },
  {
   "cell_type": "code",
   "metadata": {
    "ExecuteTime": {
     "end_time": "2024-07-19T21:25:13.373848Z",
     "start_time": "2024-07-19T21:25:13.369389Z"
    }
   },
   "source": "a_dict.pop(1)     # Remove key and return value, if no key raise error, or return default ",
   "outputs": [
    {
     "data": {
      "text/plain": [
       "2"
      ]
     },
     "execution_count": 18,
     "metadata": {},
     "output_type": "execute_result"
    }
   ],
   "execution_count": 18
  },
  {
   "cell_type": "code",
   "metadata": {
    "ExecuteTime": {
     "end_time": "2024-07-19T21:27:01.039266Z",
     "start_time": "2024-07-19T21:27:01.019231Z"
    }
   },
   "source": "a_dict.pop(1)     # Second time there will be no such key",
   "outputs": [
    {
     "ename": "KeyError",
     "evalue": "1",
     "output_type": "error",
     "traceback": [
      "\u001B[1;31m---------------------------------------------------------------------------\u001B[0m",
      "\u001B[1;31mKeyError\u001B[0m                                  Traceback (most recent call last)",
      "Cell \u001B[1;32mIn[19], line 1\u001B[0m\n\u001B[1;32m----> 1\u001B[0m \u001B[43ma_dict\u001B[49m\u001B[38;5;241;43m.\u001B[39;49m\u001B[43mpop\u001B[49m\u001B[43m(\u001B[49m\u001B[38;5;241;43m1\u001B[39;49m\u001B[43m)\u001B[49m\n",
      "\u001B[1;31mKeyError\u001B[0m: 1"
     ]
    }
   ],
   "execution_count": 19
  },
  {
   "cell_type": "code",
   "metadata": {
    "ExecuteTime": {
     "end_time": "2024-07-19T21:27:01.613857Z",
     "start_time": "2024-07-19T21:27:01.603324Z"
    }
   },
   "source": [
    "del a_dict['hello1']    # Other way of deletion of key value pair\n",
    "print(a_dict)"
   ],
   "outputs": [
    {
     "ename": "KeyError",
     "evalue": "'hello2'",
     "output_type": "error",
     "traceback": [
      "\u001B[1;31m---------------------------------------------------------------------------\u001B[0m",
      "\u001B[1;31mKeyError\u001B[0m                                  Traceback (most recent call last)",
      "Cell \u001B[1;32mIn[20], line 1\u001B[0m\n\u001B[1;32m----> 1\u001B[0m \u001B[38;5;28;01mdel\u001B[39;00m \u001B[43ma_dict\u001B[49m\u001B[43m[\u001B[49m\u001B[38;5;124;43m'\u001B[39;49m\u001B[38;5;124;43mhello2\u001B[39;49m\u001B[38;5;124;43m'\u001B[39;49m\u001B[43m]\u001B[49m    \n\u001B[0;32m      2\u001B[0m \u001B[38;5;28mprint\u001B[39m(a_dict)\n",
      "\u001B[1;31mKeyError\u001B[0m: 'hello2'"
     ]
    }
   ],
   "execution_count": 20
  },
  {
   "cell_type": "code",
   "metadata": {},
   "source": "'WORLD' in a_dict     # Check presence in dict - search O(1)",
   "outputs": [],
   "execution_count": null
  },
  {
   "cell_type": "code",
   "metadata": {},
   "source": [
    "len(a_dict)"
   ],
   "outputs": [],
   "execution_count": null
  },
  {
   "cell_type": "markdown",
   "metadata": {},
   "source": [
    "looping techniques with dict"
   ]
  },
  {
   "cell_type": "code",
   "metadata": {},
   "source": [
    "for key in a_dict:    # Default iteration way\n",
    "    print(a_dict[key])"
   ],
   "outputs": [],
   "execution_count": null
  },
  {
   "cell_type": "code",
   "metadata": {},
   "source": [
    "for value in a_dict.values():    # values() returns list-like object\n",
    "    print(value)"
   ],
   "outputs": [],
   "execution_count": null
  },
  {
   "cell_type": "code",
   "metadata": {},
   "source": [
    "for key, value in a_dict.items():  # items() returns set of tuples (key value pairs)\n",
    "    print(key, value)"
   ],
   "outputs": [],
   "execution_count": null
  },
  {
   "cell_type": "code",
   "metadata": {},
   "source": [],
   "outputs": [],
   "execution_count": null
  }
 ],
 "metadata": {
  "kernelspec": {
   "display_name": "Python 3",
   "language": "python",
   "name": "python3"
  },
  "language_info": {
   "codemirror_mode": {
    "name": "ipython",
    "version": 3
   },
   "file_extension": ".py",
   "mimetype": "text/x-python",
   "name": "python",
   "nbconvert_exporter": "python",
   "pygments_lexer": "ipython3",
   "version": "3.7.4"
  }
 },
 "nbformat": 4,
 "nbformat_minor": 2
}
