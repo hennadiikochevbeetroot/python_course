{
 "cells": [
  {
   "cell_type": "markdown",
   "metadata": {},
   "source": [
    "## Input\n",
    "basic text"
   ]
  },
  {
   "cell_type": "code",
   "metadata": {
    "ExecuteTime": {
     "end_time": "2024-07-20T08:15:43.113457Z",
     "start_time": "2024-07-20T08:15:43.107757Z"
    }
   },
   "source": [
    "help(input)"
   ],
   "outputs": [
    {
     "name": "stdout",
     "output_type": "stream",
     "text": [
      "Help on method raw_input in module ipykernel.kernelbase:\n",
      "\n",
      "raw_input(prompt='') method of ipykernel.ipkernel.IPythonKernel instance\n",
      "    Forward raw_input to frontends\n",
      "\n",
      "    Raises\n",
      "    ------\n",
      "    StdinNotImplementedError if active frontend doesn't support stdin.\n",
      "\n"
     ]
    }
   ],
   "execution_count": 1
  },
  {
   "cell_type": "code",
   "metadata": {
    "ExecuteTime": {
     "end_time": "2024-07-20T08:19:37.988760Z",
     "start_time": "2024-07-20T08:19:32.844836Z"
    }
   },
   "source": "input(\"Enter text: \")",
   "outputs": [
    {
     "data": {
      "text/plain": [
       "'text something'"
      ]
     },
     "execution_count": 3,
     "metadata": {},
     "output_type": "execute_result"
    }
   ],
   "execution_count": 3
  },
  {
   "cell_type": "code",
   "metadata": {
    "ExecuteTime": {
     "end_time": "2024-07-20T08:20:42.057058Z",
     "start_time": "2024-07-20T08:20:35.539067Z"
    }
   },
   "source": "s = input(\"Give me input into variable: \")",
   "outputs": [],
   "execution_count": 4
  },
  {
   "cell_type": "code",
   "metadata": {
    "ExecuteTime": {
     "end_time": "2024-07-20T08:20:45.722134Z",
     "start_time": "2024-07-20T08:20:45.717132Z"
    }
   },
   "source": [
    "s"
   ],
   "outputs": [
    {
     "data": {
      "text/plain": [
       "'input text'"
      ]
     },
     "execution_count": 5,
     "metadata": {},
     "output_type": "execute_result"
    }
   ],
   "execution_count": 5
  },
  {
   "cell_type": "code",
   "metadata": {
    "ExecuteTime": {
     "end_time": "2024-07-20T08:21:38.104710Z",
     "start_time": "2024-07-20T08:21:38.099465Z"
    }
   },
   "source": [
    "type(s)"
   ],
   "outputs": [
    {
     "data": {
      "text/plain": [
       "str"
      ]
     },
     "execution_count": 6,
     "metadata": {},
     "output_type": "execute_result"
    }
   ],
   "execution_count": 6
  },
  {
   "cell_type": "code",
   "metadata": {
    "ExecuteTime": {
     "end_time": "2024-07-20T08:21:59.697910Z",
     "start_time": "2024-07-20T08:21:57.048353Z"
    }
   },
   "source": "num = input(\"Enter some number: \")",
   "outputs": [],
   "execution_count": 7
  },
  {
   "cell_type": "code",
   "metadata": {
    "ExecuteTime": {
     "end_time": "2024-07-20T08:22:03.434063Z",
     "start_time": "2024-07-20T08:22:03.429554Z"
    }
   },
   "source": [
    "print(num)\n",
    "print(type(num))"
   ],
   "outputs": [
    {
     "name": "stdout",
     "output_type": "stream",
     "text": [
      "4545454545\n",
      "<class 'str'>\n"
     ]
    }
   ],
   "execution_count": 8
  },
  {
   "cell_type": "code",
   "metadata": {
    "ExecuteTime": {
     "end_time": "2024-07-20T08:32:19.444241Z",
     "start_time": "2024-07-20T08:31:48.615483Z"
    }
   },
   "source": [
    "# If enter convertable to int, will be okay\n",
    "# If enter non-convertable text, it would raise an error of impossible conversion\n",
    "input_num = input(\"Enter some integer: \")\n",
    "while not input_num.isdigit():\n",
    "    print('You have entered not an integer, please try again...')\n",
    "    input_num = input(\"Enter some integer: \")\n",
    "\n",
    "number = int(input_num)\n",
    "print(number)\n",
    "print(type(number))\n",
    "if type(number) is int:\n",
    "    print('Num is string')"
   ],
   "outputs": [
    {
     "name": "stdout",
     "output_type": "stream",
     "text": [
      "You have entered not an integer, please try again...\n",
      "You have entered not an integer, please try again...\n",
      "You have entered not an integer, please try again...\n",
      "123\n",
      "<class 'int'>\n",
      "Num is string\n"
     ]
    }
   ],
   "execution_count": 15
  },
  {
   "metadata": {},
   "cell_type": "code",
   "outputs": [],
   "execution_count": null,
   "source": ""
  }
 ],
 "metadata": {
  "kernelspec": {
   "display_name": "Python 3",
   "language": "python",
   "name": "python3"
  },
  "language_info": {
   "codemirror_mode": {
    "name": "ipython",
    "version": 3
   },
   "file_extension": ".py",
   "mimetype": "text/x-python",
   "name": "python",
   "nbconvert_exporter": "python",
   "pygments_lexer": "ipython3",
   "version": "3.7.4"
  }
 },
 "nbformat": 4,
 "nbformat_minor": 2
}
