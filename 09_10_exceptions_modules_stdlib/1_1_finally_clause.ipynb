{
 "cells": [
  {
   "metadata": {},
   "cell_type": "markdown",
   "source": "## Finally statement cases",
   "id": "79378adc3a72b66e"
  },
  {
   "metadata": {},
   "cell_type": "markdown",
   "source": "If an exception occurs during the execution of the `try` clause, the exception may be handled by an `except` clause. If the exception is not handled by an `except` clause, the exception is re-raised after the `finally` clause has been executed.",
   "id": "59dfd9d121bda6a6"
  },
  {
   "metadata": {
    "ExecuteTime": {
     "end_time": "2024-08-01T17:15:31.008377Z",
     "start_time": "2024-08-01T17:15:07.258754Z"
    }
   },
   "cell_type": "code",
   "source": [
    "try:\n",
    "    print('Trying')\n",
    "    print(3 / 0)\n",
    "except IndexError:  # Not the error which we get\n",
    "    print('Index error caught')\n",
    "finally:\n",
    "    print('finally executed')\n"
   ],
   "id": "29ae432bf00586c1",
   "outputs": [
    {
     "name": "stdout",
     "output_type": "stream",
     "text": [
      "Trying\n",
      "finally executed\n"
     ]
    },
    {
     "ename": "ZeroDivisionError",
     "evalue": "division by zero",
     "output_type": "error",
     "traceback": [
      "\u001B[1;31m---------------------------------------------------------------------------\u001B[0m",
      "\u001B[1;31mZeroDivisionError\u001B[0m                         Traceback (most recent call last)",
      "Cell \u001B[1;32mIn[1], line 3\u001B[0m\n\u001B[0;32m      1\u001B[0m \u001B[38;5;28;01mtry\u001B[39;00m:\n\u001B[0;32m      2\u001B[0m     \u001B[38;5;28mprint\u001B[39m(\u001B[38;5;124m'\u001B[39m\u001B[38;5;124mTrying\u001B[39m\u001B[38;5;124m'\u001B[39m)\n\u001B[1;32m----> 3\u001B[0m     \u001B[38;5;28mprint\u001B[39m(\u001B[38;5;241;43m3\u001B[39;49m\u001B[43m \u001B[49m\u001B[38;5;241;43m/\u001B[39;49m\u001B[43m \u001B[49m\u001B[38;5;241;43m0\u001B[39;49m)\n\u001B[0;32m      4\u001B[0m \u001B[38;5;28;01mexcept\u001B[39;00m \u001B[38;5;167;01mIndexError\u001B[39;00m:  \u001B[38;5;66;03m# Not the error which we get\u001B[39;00m\n\u001B[0;32m      5\u001B[0m     \u001B[38;5;28mprint\u001B[39m(\u001B[38;5;124m'\u001B[39m\u001B[38;5;124mIndex error caught\u001B[39m\u001B[38;5;124m'\u001B[39m)\n",
      "\u001B[1;31mZeroDivisionError\u001B[0m: division by zero"
     ]
    }
   ],
   "execution_count": 1
  },
  {
   "metadata": {},
   "cell_type": "markdown",
   "source": "An exception could occur during the execution of an `except` or `else` clause. Again, the exception is re-raised after the `finally` clause has been executed.",
   "id": "61bff4b13e446b70"
  },
  {
   "metadata": {
    "ExecuteTime": {
     "end_time": "2024-08-01T17:17:04.273234Z",
     "start_time": "2024-08-01T17:16:37.283093Z"
    }
   },
   "cell_type": "code",
   "source": [
    "l = [1, 2, 3]\n",
    "try:\n",
    "    print('Trying list')\n",
    "    print('Element 4: ', l[3])\n",
    "except IndexError:\n",
    "    print('Handling index error')\n",
    "    print('Still want element 4: ', l[3])\n",
    "finally:\n",
    "    print('finally executed')\n",
    "    \n",
    "    "
   ],
   "id": "b46efe14905dc5c3",
   "outputs": [
    {
     "name": "stdout",
     "output_type": "stream",
     "text": [
      "Trying list\n",
      "Handling index error\n",
      "finally executed\n"
     ]
    },
    {
     "ename": "IndexError",
     "evalue": "list index out of range",
     "output_type": "error",
     "traceback": [
      "\u001B[1;31m---------------------------------------------------------------------------\u001B[0m",
      "\u001B[1;31mIndexError\u001B[0m                                Traceback (most recent call last)",
      "Cell \u001B[1;32mIn[2], line 4\u001B[0m\n\u001B[0;32m      3\u001B[0m     \u001B[38;5;28mprint\u001B[39m(\u001B[38;5;124m'\u001B[39m\u001B[38;5;124mTrying list\u001B[39m\u001B[38;5;124m'\u001B[39m)\n\u001B[1;32m----> 4\u001B[0m     \u001B[38;5;28mprint\u001B[39m(\u001B[38;5;124m'\u001B[39m\u001B[38;5;124mElement 4: \u001B[39m\u001B[38;5;124m'\u001B[39m, \u001B[43ml\u001B[49m\u001B[43m[\u001B[49m\u001B[38;5;241;43m3\u001B[39;49m\u001B[43m]\u001B[49m)\n\u001B[0;32m      5\u001B[0m \u001B[38;5;28;01mexcept\u001B[39;00m \u001B[38;5;167;01mIndexError\u001B[39;00m:\n",
      "\u001B[1;31mIndexError\u001B[0m: list index out of range",
      "\nDuring handling of the above exception, another exception occurred:\n",
      "\u001B[1;31mIndexError\u001B[0m                                Traceback (most recent call last)",
      "Cell \u001B[1;32mIn[2], line 7\u001B[0m\n\u001B[0;32m      5\u001B[0m \u001B[38;5;28;01mexcept\u001B[39;00m \u001B[38;5;167;01mIndexError\u001B[39;00m:\n\u001B[0;32m      6\u001B[0m     \u001B[38;5;28mprint\u001B[39m(\u001B[38;5;124m'\u001B[39m\u001B[38;5;124mHandling index error\u001B[39m\u001B[38;5;124m'\u001B[39m)\n\u001B[1;32m----> 7\u001B[0m     \u001B[38;5;28mprint\u001B[39m(\u001B[38;5;124m'\u001B[39m\u001B[38;5;124mStill want element 4: \u001B[39m\u001B[38;5;124m'\u001B[39m, \u001B[43ml\u001B[49m\u001B[43m[\u001B[49m\u001B[38;5;241;43m3\u001B[39;49m\u001B[43m]\u001B[49m)\n\u001B[0;32m      8\u001B[0m \u001B[38;5;28;01mfinally\u001B[39;00m:\n\u001B[0;32m      9\u001B[0m     \u001B[38;5;28mprint\u001B[39m(\u001B[38;5;124m'\u001B[39m\u001B[38;5;124mfinally executed\u001B[39m\u001B[38;5;124m'\u001B[39m)\n",
      "\u001B[1;31mIndexError\u001B[0m: list index out of range"
     ]
    }
   ],
   "execution_count": 2
  },
  {
   "metadata": {},
   "cell_type": "markdown",
   "source": "If the `try` statement reaches a `break`, `continue` or `return` statement, the `finally` clause will be executed just prior to the `break`, `continue` or `return` statement’s execution.",
   "id": "146aa6f0f2b52140"
  },
  {
   "metadata": {
    "ExecuteTime": {
     "end_time": "2024-08-01T17:18:50.603672Z",
     "start_time": "2024-08-01T17:18:42.880050Z"
    }
   },
   "cell_type": "code",
   "source": [
    "\n",
    "try:\n",
    "    print('print')\n",
    "    print(3 / 0)\n",
    "finally:\n",
    "    print('finally')\n",
    "\n"
   ],
   "id": "1a4f5b85318d7810",
   "outputs": [
    {
     "name": "stdout",
     "output_type": "stream",
     "text": [
      "print\n",
      "finally\n"
     ]
    },
    {
     "ename": "ZeroDivisionError",
     "evalue": "division by zero",
     "output_type": "error",
     "traceback": [
      "\u001B[1;31m---------------------------------------------------------------------------\u001B[0m",
      "\u001B[1;31mZeroDivisionError\u001B[0m                         Traceback (most recent call last)",
      "Cell \u001B[1;32mIn[3], line 4\u001B[0m\n\u001B[0;32m      2\u001B[0m \u001B[38;5;28;01mtry\u001B[39;00m:\n\u001B[0;32m      3\u001B[0m     \u001B[38;5;28mprint\u001B[39m(\u001B[38;5;124m'\u001B[39m\u001B[38;5;124mprint\u001B[39m\u001B[38;5;124m'\u001B[39m)\n\u001B[1;32m----> 4\u001B[0m     \u001B[38;5;28mprint\u001B[39m(\u001B[38;5;241;43m3\u001B[39;49m\u001B[43m \u001B[49m\u001B[38;5;241;43m/\u001B[39;49m\u001B[43m \u001B[49m\u001B[38;5;241;43m0\u001B[39;49m)\n\u001B[0;32m      5\u001B[0m \u001B[38;5;28;01mfinally\u001B[39;00m:\n\u001B[0;32m      6\u001B[0m     \u001B[38;5;28mprint\u001B[39m(\u001B[38;5;124m'\u001B[39m\u001B[38;5;124mfinally\u001B[39m\u001B[38;5;124m'\u001B[39m)\n",
      "\u001B[1;31mZeroDivisionError\u001B[0m: division by zero"
     ]
    }
   ],
   "execution_count": 3
  },
  {
   "metadata": {
    "ExecuteTime": {
     "end_time": "2024-07-31T20:25:51.525397Z",
     "start_time": "2024-07-31T20:25:51.520925Z"
    }
   },
   "cell_type": "code",
   "source": [
    "try:\n",
    "    for num in range(1, 10):\n",
    "        print('Current num: ', num)\n",
    "        if num % 3 == 0:\n",
    "            print('Divides by three without remainder, stopping: ', num)\n",
    "            break\n",
    "except:\n",
    "    print('Excepted')\n",
    "finally:\n",
    "    print('Finally executed!')\n"
   ],
   "id": "514cd56f970f0f06",
   "outputs": [
    {
     "name": "stdout",
     "output_type": "stream",
     "text": [
      "Current num:  1\n",
      "Current num:  2\n",
      "Current num:  3\n",
      "Divides by three without remainder, stopping:  3\n",
      "Finally executed!\n"
     ]
    }
   ],
   "execution_count": 3
  },
  {
   "metadata": {},
   "cell_type": "markdown",
   "source": "If a `finally` clause includes a return statement, the `finally` clause’s return statement will be executed before, and instead of, the return statement in a try clause.",
   "id": "5c6a68cb64e5fed9"
  },
  {
   "metadata": {
    "ExecuteTime": {
     "end_time": "2024-07-31T20:27:57.314013Z",
     "start_time": "2024-07-31T20:27:57.309261Z"
    }
   },
   "cell_type": "code",
   "source": [
    "def finally_first_priority():\n",
    "    try:\n",
    "        return 1\n",
    "    except:\n",
    "        return 2\n",
    "    finally: \n",
    "        return 3\n",
    "    \n",
    "    \n",
    "\n",
    "finally_first_priority()"
   ],
   "id": "58deef058f135327",
   "outputs": [
    {
     "data": {
      "text/plain": [
       "3"
      ]
     },
     "execution_count": 5,
     "metadata": {},
     "output_type": "execute_result"
    }
   ],
   "execution_count": 5
  },
  {
   "metadata": {
    "ExecuteTime": {
     "end_time": "2024-07-31T20:30:03.736312Z",
     "start_time": "2024-07-31T20:30:03.732021Z"
    }
   },
   "cell_type": "code",
   "source": [
    "def finally_first_even_if_exception(divide_by_zero: int):\n",
    "    try:\n",
    "        print('Erroneous: ', divide_by_zero / 0.0)\n",
    "    except ZeroDivisionError:\n",
    "        return float('inf')\n",
    "    finally:\n",
    "        return divide_by_zero\n",
    "\n",
    "\n",
    "finally_first_even_if_exception(6)"
   ],
   "id": "2db9ffb10a29b4d8",
   "outputs": [
    {
     "data": {
      "text/plain": [
       "6"
      ]
     },
     "execution_count": 6,
     "metadata": {},
     "output_type": "execute_result"
    }
   ],
   "execution_count": 6
  },
  {
   "metadata": {},
   "cell_type": "code",
   "outputs": [],
   "execution_count": null,
   "source": "",
   "id": "7b0053630cf9b4a7"
  }
 ],
 "metadata": {
  "kernelspec": {
   "display_name": "Python 3",
   "language": "python",
   "name": "python3"
  },
  "language_info": {
   "codemirror_mode": {
    "name": "ipython",
    "version": 2
   },
   "file_extension": ".py",
   "mimetype": "text/x-python",
   "name": "python",
   "nbconvert_exporter": "python",
   "pygments_lexer": "ipython2",
   "version": "2.7.6"
  }
 },
 "nbformat": 4,
 "nbformat_minor": 5
}
