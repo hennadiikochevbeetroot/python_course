{
 "cells": [
  {
   "cell_type": "markdown",
   "metadata": {},
   "source": [
    "\n",
    "# Functions"
   ]
  },
  {
   "cell_type": "markdown",
   "metadata": {},
   "source": [
    "In general, there are two types of functions in python:\n",
    "    <li> built-in (print, int, float, abs, type, etc);\n",
    "    <li> user-defined;\n",
    "        \n",
    "        \n",
    "We can create our own functions using function definition:\n",
    "\n",
    "<b>def</b> <em>function name<em><b>(</b> <em>params</em> <b>) :</b>"
   ]
  },
  {
   "cell_type": "code",
   "metadata": {
    "ExecuteTime": {
     "end_time": "2024-07-26T19:33:13.813451Z",
     "start_time": "2024-07-26T19:33:13.807356Z"
    }
   },
   "source": [
    "def add_two_numbers(a: int, b: int) -> int:\n",
    "    return a + b\n",
    "\n",
    "result = add_two_numbers(a=1, b=2)\n",
    "print()\n",
    "print(add_two_numbers(10, b=6, ))\n"
   ],
   "outputs": [
    {
     "name": "stdout",
     "output_type": "stream",
     "text": [
      "\n",
      "16\n"
     ]
    }
   ],
   "execution_count": 1
  },
  {
   "cell_type": "code",
   "execution_count": 2,
   "metadata": {},
   "outputs": [
    {
     "name": "stdout",
     "output_type": "stream",
     "text": [
      "3\n"
     ]
    }
   ],
   "source": ""
  },
  {
   "cell_type": "code",
   "execution_count": 6,
   "metadata": {},
   "outputs": [],
   "source": [
    "def custom_exp(x, _pow=1):\n",
    "    if x > 0:\n",
    "        print('other')\n",
    "        return 1\n",
    "    elif x < 0:\n",
    "        return 2\n",
    "    print('business')\n",
    "    a = x * x\n",
    "    return x ** _pow"
   ]
  },
  {
   "cell_type": "code",
   "execution_count": 7,
   "metadata": {},
   "outputs": [
    {
     "name": "stdout",
     "output_type": "stream",
     "text": [
      "2\n"
     ]
    }
   ],
   "source": [
    "print(custom_exp(2))\n"
   ]
  },
  {
   "cell_type": "code",
   "execution_count": 8,
   "metadata": {},
   "outputs": [
    {
     "name": "stdout",
     "output_type": "stream",
     "text": [
      "8\n"
     ]
    }
   ],
   "source": [
    "print(custom_exp(2, 3))"
   ]
  },
  {
   "cell_type": "code",
   "execution_count": 9,
   "metadata": {},
   "outputs": [
    {
     "name": "stdout",
     "output_type": "stream",
     "text": [
      "1024\n"
     ]
    }
   ],
   "source": [
    "print(custom_exp(2, _pow=10))"
   ]
  },
  {
   "cell_type": "code",
   "metadata": {
    "ExecuteTime": {
     "end_time": "2024-07-23T18:46:09.449318Z",
     "start_time": "2024-07-23T18:46:09.442606Z"
    }
   },
   "source": [
    "def celsius_to_fahrenheit(temperature: int | float) -> float:\n",
    "    return temperature * 9 / 5 + 32\n",
    "\n",
    "\n",
    "celsius_to_fahrenheit(25)\n"
   ],
   "outputs": [
    {
     "data": {
      "text/plain": [
       "77.0"
      ]
     },
     "execution_count": 4,
     "metadata": {},
     "output_type": "execute_result"
    }
   ],
   "execution_count": 4
  },
  {
   "cell_type": "markdown",
   "metadata": {},
   "source": [
    "## Args Kwargs"
   ]
  },
  {
   "cell_type": "code",
   "metadata": {
    "ExecuteTime": {
     "end_time": "2024-07-23T18:54:38.146578Z",
     "start_time": "2024-07-23T18:54:38.143255Z"
    }
   },
   "source": [
    "# in case we don't know number of parameter which will be passed to function\n",
    "def custom_print(a, b, *args):\n",
    "    print(f'{a=}')\n",
    "    print(f'{b=}')\n",
    "    print(f'Custom print got {len(args)} arguments inside args tuple: ', args)"
   ],
   "outputs": [],
   "execution_count": 7
  },
  {
   "cell_type": "code",
   "metadata": {
    "ExecuteTime": {
     "end_time": "2024-07-23T18:54:39.022475Z",
     "start_time": "2024-07-23T18:54:38.783782Z"
    }
   },
   "source": [
    "custom_print(1,2,4,5)\n",
    "custom_print(1,2,4,5,6,7,8,9)\n",
    "custom_print()"
   ],
   "outputs": [
    {
     "name": "stdout",
     "output_type": "stream",
     "text": [
      "a=1\n",
      "b=2\n",
      "Custom print got 2 arguments inside args tuple:  (4, 5)\n",
      "a=1\n",
      "b=2\n",
      "Custom print got 6 arguments inside args tuple:  (4, 5, 6, 7, 8, 9)\n"
     ]
    },
    {
     "ename": "TypeError",
     "evalue": "custom_print() missing 2 required positional arguments: 'a' and 'b'",
     "output_type": "error",
     "traceback": [
      "\u001B[1;31m---------------------------------------------------------------------------\u001B[0m",
      "\u001B[1;31mTypeError\u001B[0m                                 Traceback (most recent call last)",
      "Cell \u001B[1;32mIn[8], line 3\u001B[0m\n\u001B[0;32m      1\u001B[0m custom_print(\u001B[38;5;241m1\u001B[39m,\u001B[38;5;241m2\u001B[39m,\u001B[38;5;241m4\u001B[39m,\u001B[38;5;241m5\u001B[39m)\n\u001B[0;32m      2\u001B[0m custom_print(\u001B[38;5;241m1\u001B[39m,\u001B[38;5;241m2\u001B[39m,\u001B[38;5;241m4\u001B[39m,\u001B[38;5;241m5\u001B[39m,\u001B[38;5;241m6\u001B[39m,\u001B[38;5;241m7\u001B[39m,\u001B[38;5;241m8\u001B[39m,\u001B[38;5;241m9\u001B[39m)\n\u001B[1;32m----> 3\u001B[0m \u001B[43mcustom_print\u001B[49m\u001B[43m(\u001B[49m\u001B[43m)\u001B[49m\n",
      "\u001B[1;31mTypeError\u001B[0m: custom_print() missing 2 required positional arguments: 'a' and 'b'"
     ]
    }
   ],
   "execution_count": 8
  },
  {
   "cell_type": "code",
   "metadata": {
    "ExecuteTime": {
     "end_time": "2024-07-23T18:59:31.130082Z",
     "start_time": "2024-07-23T18:59:31.126398Z"
    }
   },
   "source": [
    "def custom_print(**kwargs):\n",
    "    new_dict = {\n",
    "        'a': 1,\n",
    "        **kwargs,\n",
    "    }\n",
    "    print('New dictionary: ', new_dict)\n",
    "    print(f'Custom print got {len(kwargs)} arguments inside kwargs dict: ', kwargs)\n",
    "\n",
    "custom_print(name='Batman', enemy='Joker')\n"
   ],
   "outputs": [
    {
     "name": "stdout",
     "output_type": "stream",
     "text": [
      "New dictionary:  {'a': 1, 'name': 'Batman', 'enemy': 'Joker'}\n",
      "Custom print got 2 arguments inside kwargs dict:  {'name': 'Batman', 'enemy': 'Joker'}\n"
     ]
    }
   ],
   "execution_count": 11
  },
  {
   "cell_type": "markdown",
   "metadata": {},
   "source": [
    "We can combine positional with named parameters"
   ]
  },
  {
   "cell_type": "code",
   "execution_count": 18,
   "metadata": {},
   "outputs": [],
   "source": [
    "def custom_print(a,b,c, d='D'):\n",
    "    print(a,b,c,d)"
   ]
  },
  {
   "cell_type": "code",
   "metadata": {
    "ExecuteTime": {
     "end_time": "2024-07-23T19:04:04.477786Z",
     "start_time": "2024-07-23T19:04:04.472250Z"
    }
   },
   "source": [
    "def custom_print(param1, param2, *args, **kwargs):\n",
    "    \"\"\"\n",
    "    Documentation\n",
    "    \"\"\"\n",
    "    first_arg = args[0]\n",
    "    name = kwargs['name']\n",
    "    print(f'{param1=}')\n",
    "    print(f'{param2=}')\n",
    "    print(\"ARGS: \", args)\n",
    "    print(\"KWARGS: \", kwargs)\n",
    "\n",
    "len()\n",
    "sum()\n",
    "max()\n",
    "\n",
    "for _ in range(10):\n",
    "    custom_print(1,2,3,4,5,6,7, name='hello', world=[])"
   ],
   "outputs": [
    {
     "name": "stdout",
     "output_type": "stream",
     "text": [
      "param1=1\n",
      "param2=2\n",
      "ARGS:  (3, 4, 5, 6, 7)\n",
      "KWARGS:  {'name': 'hello', 'world': []}\n",
      "param1=1\n",
      "param2=2\n",
      "ARGS:  (3, 4, 5, 6, 7)\n",
      "KWARGS:  {'name': 'hello', 'world': []}\n",
      "param1=1\n",
      "param2=2\n",
      "ARGS:  (3, 4, 5, 6, 7)\n",
      "KWARGS:  {'name': 'hello', 'world': []}\n",
      "param1=1\n",
      "param2=2\n",
      "ARGS:  (3, 4, 5, 6, 7)\n",
      "KWARGS:  {'name': 'hello', 'world': []}\n",
      "param1=1\n",
      "param2=2\n",
      "ARGS:  (3, 4, 5, 6, 7)\n",
      "KWARGS:  {'name': 'hello', 'world': []}\n",
      "param1=1\n",
      "param2=2\n",
      "ARGS:  (3, 4, 5, 6, 7)\n",
      "KWARGS:  {'name': 'hello', 'world': []}\n",
      "param1=1\n",
      "param2=2\n",
      "ARGS:  (3, 4, 5, 6, 7)\n",
      "KWARGS:  {'name': 'hello', 'world': []}\n",
      "param1=1\n",
      "param2=2\n",
      "ARGS:  (3, 4, 5, 6, 7)\n",
      "KWARGS:  {'name': 'hello', 'world': []}\n",
      "param1=1\n",
      "param2=2\n",
      "ARGS:  (3, 4, 5, 6, 7)\n",
      "KWARGS:  {'name': 'hello', 'world': []}\n",
      "param1=1\n",
      "param2=2\n",
      "ARGS:  (3, 4, 5, 6, 7)\n",
      "KWARGS:  {'name': 'hello', 'world': []}\n"
     ]
    }
   ],
   "execution_count": 13
  },
  {
   "cell_type": "code",
   "execution_count": 23,
   "metadata": {},
   "outputs": [
    {
     "name": "stdout",
     "output_type": "stream",
     "text": [
      "ARGS:  (1, 2, 3)\n",
      "KWARGS:  {'name': 'hello', 'world': []}\n"
     ]
    }
   ],
   "source": ""
  },
  {
   "cell_type": "markdown",
   "metadata": {},
   "source": [
    "## Scope of the function"
   ]
  },
  {
   "cell_type": "markdown",
   "metadata": {},
   "source": [
    "Every variable passed to a function is passed by reference and every variable declared inside a function is a local variable.\n",
    "\n",
    "For now, refer to local variables as variables defined inside a code block, a function, in our case; and passing a variable by reference means that we can get an object from the outer scope, in our case, from global scope.\n",
    "\n",
    "Let's describe it in code."
   ]
  },
  {
   "cell_type": "code",
   "execution_count": 36,
   "metadata": {},
   "outputs": [],
   "source": [
    "x = 111 # here is our variable declared in global scope"
   ]
  },
  {
   "cell_type": "code",
   "execution_count": 25,
   "metadata": {},
   "outputs": [
    {
     "name": "stdout",
     "output_type": "stream",
     "text": [
      "1\n"
     ]
    }
   ],
   "source": [
    "print(x)"
   ]
  },
  {
   "cell_type": "code",
   "execution_count": 34,
   "metadata": {},
   "outputs": [],
   "source": [
    "del x"
   ]
  },
  {
   "cell_type": "code",
   "execution_count": 26,
   "metadata": {},
   "outputs": [],
   "source": [
    "def test(x):\n",
    "    x += 1\n",
    "    print('here is X inside func: ', x)"
   ]
  },
  {
   "cell_type": "code",
   "execution_count": 27,
   "metadata": {},
   "outputs": [
    {
     "name": "stdout",
     "output_type": "stream",
     "text": [
      "here is X inside func:  2\n",
      "here is global X:  1\n"
     ]
    }
   ],
   "source": [
    "test(x)\n",
    "print('here is global X: ', x)"
   ]
  },
  {
   "cell_type": "code",
   "execution_count": 28,
   "metadata": {},
   "outputs": [],
   "source": [
    "def test2():\n",
    "    x = 101\n",
    "    print('here is X inside func: ', x)"
   ]
  },
  {
   "cell_type": "code",
   "execution_count": 29,
   "metadata": {},
   "outputs": [
    {
     "name": "stdout",
     "output_type": "stream",
     "text": [
      "here is X inside func:  101\n",
      "here is global X:  1\n"
     ]
    }
   ],
   "source": [
    "test2()\n",
    "print('here is global X: ', x)"
   ]
  },
  {
   "cell_type": "code",
   "execution_count": 30,
   "metadata": {},
   "outputs": [],
   "source": [
    "def test3():\n",
    "    print('here is X inside func: ', x)"
   ]
  },
  {
   "cell_type": "code",
   "execution_count": 35,
   "metadata": {},
   "outputs": [
    {
     "ename": "NameError",
     "evalue": "name 'x' is not defined",
     "output_type": "error",
     "traceback": [
      "\u001B[0;31m---------------------------------------------------------------------------\u001B[0m",
      "\u001B[0;31mNameError\u001B[0m                                 Traceback (most recent call last)",
      "\u001B[0;32m<ipython-input-35-5dea5f7ba8cb>\u001B[0m in \u001B[0;36m<module>\u001B[0;34m\u001B[0m\n\u001B[0;32m----> 1\u001B[0;31m \u001B[0mtest3\u001B[0m\u001B[0;34m(\u001B[0m\u001B[0;34m)\u001B[0m\u001B[0;34m\u001B[0m\u001B[0;34m\u001B[0m\u001B[0m\n\u001B[0m",
      "\u001B[0;32m<ipython-input-30-fe8c0b3b229f>\u001B[0m in \u001B[0;36mtest3\u001B[0;34m()\u001B[0m\n\u001B[1;32m      1\u001B[0m \u001B[0;32mdef\u001B[0m \u001B[0mtest3\u001B[0m\u001B[0;34m(\u001B[0m\u001B[0;34m)\u001B[0m\u001B[0;34m:\u001B[0m\u001B[0;34m\u001B[0m\u001B[0;34m\u001B[0m\u001B[0m\n\u001B[0;32m----> 2\u001B[0;31m     \u001B[0mprint\u001B[0m\u001B[0;34m(\u001B[0m\u001B[0;34m'here is X inside func: '\u001B[0m\u001B[0;34m,\u001B[0m \u001B[0mx\u001B[0m\u001B[0;34m)\u001B[0m\u001B[0;34m\u001B[0m\u001B[0;34m\u001B[0m\u001B[0m\n\u001B[0m",
      "\u001B[0;31mNameError\u001B[0m: name 'x' is not defined"
     ]
    }
   ],
   "source": [
    "test3()"
   ]
  },
  {
   "cell_type": "code",
   "execution_count": 37,
   "metadata": {},
   "outputs": [],
   "source": [
    "def test4():\n",
    "    global x\n",
    "    x += 1\n",
    "    print('here is X inside func: ', x)"
   ]
  },
  {
   "cell_type": "code",
   "execution_count": 38,
   "metadata": {},
   "outputs": [
    {
     "name": "stdout",
     "output_type": "stream",
     "text": [
      "here is X inside func:  112\n"
     ]
    }
   ],
   "source": [
    "test4()"
   ]
  },
  {
   "cell_type": "code",
   "execution_count": 39,
   "metadata": {},
   "outputs": [
    {
     "name": "stdout",
     "output_type": "stream",
     "text": [
      "112\n"
     ]
    }
   ],
   "source": [
    "print(x)"
   ]
  },
  {
   "cell_type": "code",
   "execution_count": 40,
   "metadata": {},
   "outputs": [],
   "source": [
    "def test5(x):\n",
    "    x += 1\n",
    "    return x"
   ]
  },
  {
   "cell_type": "code",
   "execution_count": 41,
   "metadata": {},
   "outputs": [],
   "source": [
    "x = test5(x)"
   ]
  },
  {
   "cell_type": "code",
   "execution_count": 42,
   "metadata": {},
   "outputs": [
    {
     "data": {
      "text/plain": [
       "113"
      ]
     },
     "execution_count": 42,
     "metadata": {},
     "output_type": "execute_result"
    }
   ],
   "source": [
    "x"
   ]
  }
 ],
 "metadata": {
  "kernelspec": {
   "display_name": "Python 3",
   "language": "python",
   "name": "python3"
  },
  "language_info": {
   "codemirror_mode": {
    "name": "ipython",
    "version": 3
   },
   "file_extension": ".py",
   "mimetype": "text/x-python",
   "name": "python",
   "nbconvert_exporter": "python",
   "pygments_lexer": "ipython3",
   "version": "3.7.4"
  }
 },
 "nbformat": 4,
 "nbformat_minor": 2
}
