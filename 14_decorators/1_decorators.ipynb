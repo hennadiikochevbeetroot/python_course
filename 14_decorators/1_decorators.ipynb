{
 "cells": [
  {
   "cell_type": "markdown",
   "metadata": {},
   "source": [
    "## Decorators\n",
    "Decorators are a significant part of Python. Simply put, they are functions that modify the functionality of other functions. They help to make our code shorter and more Pythonic"
   ]
  },
  {
   "cell_type": "code",
   "metadata": {
    "ExecuteTime": {
     "end_time": "2024-08-08T17:32:56.700164Z",
     "start_time": "2024-08-08T17:32:18.273097Z"
    }
   },
   "source": [
    "from typing import Callable\n",
    "from functools import wraps\n",
    "\n",
    "\n",
    "def before_after(func: Callable) -> Callable:\n",
    "    @wraps(func)\n",
    "    def wrapper():\n",
    "        print('before')\n",
    "        func()\n",
    "        print('after')\n",
    "\n",
    "    return wrapper\n",
    "\n",
    "\n",
    "@before_after\n",
    "def print_test() -> None:\n",
    "    \"\"\"test function docs\"\"\"\n",
    "    print('inside test')\n",
    "\n",
    "\n",
    "print_test()\n",
    "\n",
    "\n",
    "# print_test()\n",
    "# print_test = first_decorator(print_test)\n",
    "# print_test()\n",
    "\n",
    "# print(print_test.__name__)\n",
    "# print(print_test.__doc__)\n",
    "\n",
    "\n"
   ],
   "outputs": [
    {
     "name": "stdout",
     "output_type": "stream",
     "text": [
      "before\n",
      "inside test\n",
      "after\n"
     ]
    }
   ],
   "execution_count": 14
  },
  {
   "cell_type": "code",
   "metadata": {
    "ExecuteTime": {
     "end_time": "2024-08-08T17:31:46.576801Z",
     "start_time": "2024-08-08T17:31:46.567799Z"
    }
   },
   "source": "",
   "outputs": [],
   "execution_count": 12
  },
  {
   "cell_type": "code",
   "execution_count": null,
   "metadata": {},
   "outputs": [],
   "source": [
    "test.__name__"
   ]
  },
  {
   "cell_type": "code",
   "execution_count": null,
   "metadata": {},
   "outputs": [],
   "source": [
    "help(test)"
   ]
  },
  {
   "cell_type": "code",
   "execution_count": null,
   "metadata": {},
   "outputs": [],
   "source": [
    "decorated_func = first_decorator(test)"
   ]
  },
  {
   "cell_type": "code",
   "execution_count": null,
   "metadata": {},
   "outputs": [],
   "source": [
    "test()"
   ]
  },
  {
   "cell_type": "code",
   "execution_count": null,
   "metadata": {},
   "outputs": [],
   "source": [
    "decorated_func()"
   ]
  },
  {
   "cell_type": "markdown",
   "metadata": {},
   "source": [
    "Instead of writing code like this `decorated_func = first_decorator(test)` we can use special python syntax with `@` symbol"
   ]
  },
  {
   "cell_type": "code",
   "execution_count": null,
   "metadata": {},
   "outputs": [],
   "source": [
    "@first_decorator\n",
    "def test():\n",
    "    \"\"\"test function docs\"\"\"\n",
    "    print('inside test')"
   ]
  },
  {
   "cell_type": "code",
   "execution_count": null,
   "metadata": {},
   "outputs": [],
   "source": [
    "test()"
   ]
  },
  {
   "cell_type": "code",
   "execution_count": null,
   "metadata": {},
   "outputs": [],
   "source": "test.__name__  #  the overwrites and docstring of our function"
  },
  {
   "cell_type": "code",
   "execution_count": null,
   "metadata": {},
   "outputs": [],
   "source": [
    "test.__doc__"
   ]
  },
  {
   "cell_type": "code",
   "metadata": {
    "ExecuteTime": {
     "end_time": "2024-08-07T21:23:02.964252Z",
     "start_time": "2024-08-07T21:23:02.960334Z"
    }
   },
   "source": [
    "from functools import wraps"
   ],
   "outputs": [],
   "execution_count": 3
  },
  {
   "cell_type": "code",
   "execution_count": null,
   "metadata": {},
   "outputs": [],
   "source": [
    "def first_decorator(func):\n",
    "    @wraps(func)\n",
    "    def wrap():\n",
    "        print('before')\n",
    "        func()\n",
    "        print('after')\n",
    "\n",
    "    return wrap\n",
    "\n",
    "\n",
    "@first_decorator\n",
    "def test():\n",
    "    \"\"\"test function docs\"\"\"\n",
    "    print('inside test')"
   ]
  },
  {
   "cell_type": "code",
   "execution_count": null,
   "metadata": {},
   "outputs": [],
   "source": [
    "test()"
   ]
  },
  {
   "cell_type": "code",
   "execution_count": null,
   "metadata": {},
   "outputs": [],
   "source": [
    "test.__name__"
   ]
  },
  {
   "cell_type": "code",
   "execution_count": null,
   "metadata": {},
   "outputs": [],
   "source": [
    "test.__doc__"
   ]
  },
  {
   "cell_type": "code",
   "metadata": {
    "ExecuteTime": {
     "end_time": "2024-08-07T21:23:10.859260Z",
     "start_time": "2024-08-07T21:23:10.855370Z"
    }
   },
   "source": [
    "# def add_brake_log(size=2):\n",
    "#     def add_brake_log_dec(func):\n",
    "#         @wraps(func)\n",
    "#         def wrap(*args, **kwargs):\n",
    "#             for _ in range(size):\n",
    "#                 print('_' * 80)\n",
    "#             func(*args, **kwargs)\n",
    "#             for _ in range(size):\n",
    "#                 print('_' * 80)\n",
    "#         return wrap\n",
    "#     return add_brake_log_dec"
   ],
   "outputs": [],
   "execution_count": 4
  },
  {
   "metadata": {
    "ExecuteTime": {
     "end_time": "2024-08-08T18:01:21.095355Z",
     "start_time": "2024-08-08T18:01:21.091010Z"
    }
   },
   "cell_type": "code",
   "source": [
    "from typing import Any, Callable\n",
    "\n",
    "def add_brake_log(size: int = 20) -> Callable:\n",
    "    def decorator(func: Callable) -> Callable:\n",
    "        @wraps(func)\n",
    "        def wrapper(*args, **kwargs) -> Any:\n",
    "            print('-' * size)\n",
    "            result = func(*args, **kwargs)\n",
    "            print('-' * size)\n",
    "            \n",
    "            return result\n",
    "\n",
    "        return wrapper\n",
    "\n",
    "    return decorator\n",
    "\n",
    "@add_brake_log()\n",
    "def create_new_text(text: str) -> str:\n",
    "    \"\"\"\n",
    "    :param text: string - text to be printed\n",
    "    :return: nothing\n",
    "    \"\"\"\n",
    "    print('Executing business logic')\n",
    "    \n",
    "    return f'New text: {text}'\n",
    "\n",
    "# print(print_new.__name__)\n",
    "# print(print_new.__doc__)\n",
    "# print_new = decorator_default_parameter(print_new)\n",
    "\n",
    "new_text = create_new_text('Hello world')\n",
    "print('Result: ', new_text)\n"
   ],
   "outputs": [
    {
     "name": "stdout",
     "output_type": "stream",
     "text": [
      "--------------------\n",
      "Executing business logic\n",
      "--------------------\n",
      "Result:  New text: Hello world\n"
     ]
    }
   ],
   "execution_count": 28
  },
  {
   "cell_type": "code",
   "metadata": {
    "ExecuteTime": {
     "end_time": "2024-08-07T21:23:14.518642Z",
     "start_time": "2024-08-07T21:23:14.514722Z"
    }
   },
   "source": [
    "@add_brake_log(size=5)\n",
    "def test():\n",
    "    \"\"\"test function docs\"\"\"\n",
    "    print('inside test')\n",
    "\n",
    "\n",
    "test()"
   ],
   "outputs": [
    {
     "name": "stdout",
     "output_type": "stream",
     "text": [
      "________________________________________________________________________________\n",
      "________________________________________________________________________________\n",
      "________________________________________________________________________________\n",
      "________________________________________________________________________________\n",
      "________________________________________________________________________________\n",
      "inside test\n",
      "________________________________________________________________________________\n",
      "________________________________________________________________________________\n",
      "________________________________________________________________________________\n",
      "________________________________________________________________________________\n",
      "________________________________________________________________________________\n"
     ]
    }
   ],
   "execution_count": 5
  },
  {
   "cell_type": "code",
   "execution_count": null,
   "metadata": {},
   "outputs": [],
   "source": []
  },
  {
   "cell_type": "code",
   "execution_count": null,
   "metadata": {},
   "outputs": [],
   "source": []
  },
  {
   "cell_type": "code",
   "execution_count": null,
   "metadata": {},
   "outputs": [],
   "source": []
  },
  {
   "cell_type": "code",
   "execution_count": null,
   "metadata": {},
   "outputs": [],
   "source": []
  }
 ],
 "metadata": {
  "kernelspec": {
   "display_name": "Python 3",
   "language": "python",
   "name": "python3"
  },
  "language_info": {
   "codemirror_mode": {
    "name": "ipython",
    "version": 3
   },
   "file_extension": ".py",
   "mimetype": "text/x-python",
   "name": "python",
   "nbconvert_exporter": "python",
   "pygments_lexer": "ipython3",
   "version": "3.7.4"
  }
 },
 "nbformat": 4,
 "nbformat_minor": 2
}
