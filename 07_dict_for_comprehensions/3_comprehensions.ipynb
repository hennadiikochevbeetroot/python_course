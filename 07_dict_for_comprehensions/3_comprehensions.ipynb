{
 "cells": [
  {
   "cell_type": "markdown",
   "metadata": {},
   "source": [
    "## List comprehensions"
   ]
  },
  {
   "cell_type": "markdown",
   "metadata": {},
   "source": [
    "`List comprehensions` provide a concise way to create lists. Common applications are used to make new lists where each element is the result of some operations applied to each member of another sequence or iterable, or to create a subsequence of those elements that satisfy a certain condition."
   ]
  },
  {
   "cell_type": "code",
   "metadata": {
    "ExecuteTime": {
     "end_time": "2024-07-23T20:20:50.827172Z",
     "start_time": "2024-07-23T20:20:50.814092Z"
    }
   },
   "source": [
    "squares = []\n",
    "for x in range(10):\n",
    "    squares.append(x ** 2)"
   ],
   "outputs": [],
   "execution_count": 12
  },
  {
   "cell_type": "code",
   "metadata": {
    "ExecuteTime": {
     "end_time": "2024-07-23T20:20:50.899536Z",
     "start_time": "2024-07-23T20:20:50.894127Z"
    }
   },
   "source": [
    "squares"
   ],
   "outputs": [
    {
     "data": {
      "text/plain": [
       "[0, 1, 4, 9, 16, 25, 36, 49, 64, 81]"
      ]
     },
     "execution_count": 13,
     "metadata": {},
     "output_type": "execute_result"
    }
   ],
   "execution_count": 13
  },
  {
   "cell_type": "code",
   "metadata": {
    "ExecuteTime": {
     "end_time": "2024-07-23T20:20:50.903877Z",
     "start_time": "2024-07-23T20:20:50.900532Z"
    }
   },
   "source": "print('Variable `x` still exists after loop: ', x)",
   "outputs": [
    {
     "name": "stdout",
     "output_type": "stream",
     "text": [
      "Variable `x` still exists after loop:  9\n"
     ]
    }
   ],
   "execution_count": 14
  },
  {
   "cell_type": "code",
   "metadata": {
    "ExecuteTime": {
     "end_time": "2024-07-23T20:20:50.908556Z",
     "start_time": "2024-07-23T20:20:50.904870Z"
    }
   },
   "source": "squares = list(map(lambda x: x ** 2, range(10)))",
   "outputs": [],
   "execution_count": 15
  },
  {
   "cell_type": "code",
   "metadata": {
    "ExecuteTime": {
     "end_time": "2024-07-23T20:20:50.938215Z",
     "start_time": "2024-07-23T20:20:50.935288Z"
    }
   },
   "source": [
    "print(squares)"
   ],
   "outputs": [
    {
     "name": "stdout",
     "output_type": "stream",
     "text": [
      "[0, 1, 4, 9, 16, 25, 36, 49, 64, 81]\n"
     ]
    }
   ],
   "execution_count": 16
  },
  {
   "cell_type": "code",
   "metadata": {
    "ExecuteTime": {
     "end_time": "2024-07-23T20:20:50.960727Z",
     "start_time": "2024-07-23T20:20:50.956736Z"
    }
   },
   "source": [
    "squares = [x**2 for x in range(10)]"
   ],
   "outputs": [],
   "execution_count": 17
  },
  {
   "cell_type": "code",
   "metadata": {
    "ExecuteTime": {
     "end_time": "2024-07-23T20:20:50.976282Z",
     "start_time": "2024-07-23T20:20:50.972745Z"
    }
   },
   "source": [
    "print(squares)"
   ],
   "outputs": [
    {
     "name": "stdout",
     "output_type": "stream",
     "text": [
      "[0, 1, 4, 9, 16, 25, 36, 49, 64, 81]\n"
     ]
    }
   ],
   "execution_count": 18
  },
  {
   "metadata": {
    "ExecuteTime": {
     "end_time": "2024-07-23T20:20:50.994365Z",
     "start_time": "2024-07-23T20:20:50.989292Z"
    }
   },
   "cell_type": "code",
   "source": [
    "alphabet = 'abcdefghij'\n",
    "# char_list = []\n",
    "# for symbol in alphabet:\n",
    "#     char_list.append(symbol)\n",
    "    \n",
    "char_list = [symbol.lower() for symbol in alphabet]\n",
    "print(char_list)\n",
    "\n",
    "vowels = ['a', 'e', 'o', 'i', 'u']\n",
    "consonants = [symbol for symbol in alphabet if symbol not in vowels]\n",
    "print(consonants)"
   ],
   "outputs": [
    {
     "name": "stdout",
     "output_type": "stream",
     "text": [
      "['a', 'b', 'c', 'd', 'e', 'f', 'g', 'h', 'i', 'j']\n",
      "['b', 'c', 'd', 'f', 'g', 'h', 'j']\n"
     ]
    }
   ],
   "execution_count": 19
  },
  {
   "cell_type": "markdown",
   "metadata": {},
   "source": [
    "A list comprehension consists of brackets containing an expression followed by a for clause, then zero or more for or if clauses. The result will be a new list resulting from evaluating the expression in the context of the for and if clauses which follow it. For example, this listcomp combines the elements of two lists if they are not equal:"
   ]
  },
  {
   "cell_type": "code",
   "metadata": {
    "ExecuteTime": {
     "end_time": "2024-07-23T20:20:51.025168Z",
     "start_time": "2024-07-23T20:20:51.020374Z"
    }
   },
   "source": "[(x, y) for x in [1, 2, 3] for y in [3, 1, 4] if x != y]  # This lets write cool oneliners",
   "outputs": [
    {
     "data": {
      "text/plain": [
       "[(1, 3), (1, 4), (2, 3), (2, 1), (2, 4), (3, 1), (3, 4)]"
      ]
     },
     "execution_count": 20,
     "metadata": {},
     "output_type": "execute_result"
    }
   ],
   "execution_count": 20
  },
  {
   "cell_type": "code",
   "metadata": {
    "ExecuteTime": {
     "end_time": "2024-07-23T20:20:51.039381Z",
     "start_time": "2024-07-23T20:20:51.035163Z"
    }
   },
   "source": [
    "res = []\n",
    "for x in [1, 2, 3]:\n",
    "    for y in [3, 1, 4]:\n",
    "        res.append((x, y))"
   ],
   "outputs": [],
   "execution_count": 21
  },
  {
   "cell_type": "code",
   "metadata": {
    "ExecuteTime": {
     "end_time": "2024-07-23T20:20:51.054502Z",
     "start_time": "2024-07-23T20:20:51.050383Z"
    }
   },
   "source": [
    "res"
   ],
   "outputs": [
    {
     "data": {
      "text/plain": [
       "[(1, 3), (1, 1), (1, 4), (2, 3), (2, 1), (2, 4), (3, 3), (3, 1), (3, 4)]"
      ]
     },
     "execution_count": 22,
     "metadata": {},
     "output_type": "execute_result"
    }
   ],
   "execution_count": 22
  },
  {
   "cell_type": "markdown",
   "metadata": {},
   "source": [
    "The initial expression in a list comprehension can be any arbitrary expression, including another list comprehension, thus we can create nested list comprehensions"
   ]
  },
  {
   "cell_type": "code",
   "metadata": {
    "ExecuteTime": {
     "end_time": "2024-07-23T20:20:51.061138Z",
     "start_time": "2024-07-23T20:20:51.055494Z"
    }
   },
   "source": [
    "matrix = [\n",
    "     [1, 2, 3, 4, 5],\n",
    "     [5, 6, 7, 8, 9],\n",
    "     [9, 10, 11, 12],\n",
    "]\n",
    "# columns = 4\n",
    "columns = len(min(*matrix, key=len))\n",
    "print(columns)\n",
    "[[row[column_idx] for row in matrix] for column_idx in range(columns)]"
   ],
   "outputs": [
    {
     "name": "stdout",
     "output_type": "stream",
     "text": [
      "4\n"
     ]
    },
    {
     "data": {
      "text/plain": [
       "[[1, 5, 9], [2, 6, 10], [3, 7, 11], [4, 8, 12]]"
      ]
     },
     "execution_count": 23,
     "metadata": {},
     "output_type": "execute_result"
    }
   ],
   "execution_count": 23
  },
  {
   "cell_type": "code",
   "metadata": {
    "ExecuteTime": {
     "end_time": "2024-07-23T20:20:51.121152Z",
     "start_time": "2024-07-23T20:20:51.116162Z"
    }
   },
   "source": [
    "transposed = []\n",
    "for i in range(4):\n",
    "    transposed_row = []\n",
    "    for row in matrix:\n",
    "        transposed_row.append(row[i])\n",
    "    transposed.append(transposed_row)\n",
    "\n",
    "transposed"
   ],
   "outputs": [
    {
     "data": {
      "text/plain": [
       "[[1, 5, 9], [2, 6, 10], [3, 7, 11], [4, 8, 12]]"
      ]
     },
     "execution_count": 24,
     "metadata": {},
     "output_type": "execute_result"
    }
   ],
   "execution_count": 24
  },
  {
   "cell_type": "markdown",
   "metadata": {},
   "source": [
    "## Another comprehensions"
   ]
  },
  {
   "cell_type": "code",
   "metadata": {
    "ExecuteTime": {
     "end_time": "2024-07-23T20:20:51.136242Z",
     "start_time": "2024-07-23T20:20:51.133148Z"
    }
   },
   "source": "x = {i ** 2 for i in range(10)}  # set comprehension",
   "outputs": [],
   "execution_count": 25
  },
  {
   "cell_type": "code",
   "metadata": {
    "ExecuteTime": {
     "end_time": "2024-07-23T20:20:51.166450Z",
     "start_time": "2024-07-23T20:20:51.161249Z"
    }
   },
   "source": [
    "x"
   ],
   "outputs": [
    {
     "data": {
      "text/plain": [
       "{0, 1, 4, 9, 16, 25, 36, 49, 64, 81}"
      ]
     },
     "execution_count": 26,
     "metadata": {},
     "output_type": "execute_result"
    }
   ],
   "execution_count": 26
  },
  {
   "cell_type": "code",
   "metadata": {
    "ExecuteTime": {
     "end_time": "2024-07-23T20:20:51.200052Z",
     "start_time": "2024-07-23T20:20:51.194467Z"
    }
   },
   "source": [
    "# x = {key: value for key in ['a', 'b', 'c'] for value in [1,2,3]} # dict comp\n",
    "\n",
    "old_dict = {'a': 1, 'b': 2, 'c': 3, 'd': 1}\n",
    "new_dict = {key: value for key, value in old_dict.items() if value > 1}\n",
    "# print(new_dict)\n",
    "\n",
    "\n",
    "list_keys = ['key1', 'key2', 'key3']\n",
    "zero_dict = {1: 0 for key in list_keys}\n",
    "print(zero_dict)\n",
    "\n",
    "\n",
    "\n",
    "\n"
   ],
   "outputs": [
    {
     "name": "stdout",
     "output_type": "stream",
     "text": [
      "{1: 0}\n"
     ]
    }
   ],
   "execution_count": 27
  },
  {
   "cell_type": "code",
   "metadata": {
    "ExecuteTime": {
     "end_time": "2024-07-23T20:20:51.213674Z",
     "start_time": "2024-07-23T20:20:51.209061Z"
    }
   },
   "source": [
    "x"
   ],
   "outputs": [
    {
     "data": {
      "text/plain": [
       "{0, 1, 4, 9, 16, 25, 36, 49, 64, 81}"
      ]
     },
     "execution_count": 28,
     "metadata": {},
     "output_type": "execute_result"
    }
   ],
   "execution_count": 28
  },
  {
   "cell_type": "code",
   "metadata": {
    "ExecuteTime": {
     "end_time": "2024-07-23T20:21:23.236606Z",
     "start_time": "2024-07-23T20:20:51.222670Z"
    }
   },
   "source": [
    "\n",
    "# Generator expression \n",
    "# (one by one - holds in memory only one element)\n",
    "# while list keeps every element at the same time\n",
    "x = (i ** 3 for i in range(10)) \n",
    "\n",
    "#  [1] -> [2] -> [3]\n",
    "#  [3] ->\n",
    "\n",
    "lst = [number for number in range(10000000000)]\n",
    "generator_lst = (number for number in range(10000000000))\n",
    "\n",
    "\n"
   ],
   "outputs": [
    {
     "ename": "MemoryError",
     "evalue": "",
     "output_type": "error",
     "traceback": [
      "\u001B[1;31m---------------------------------------------------------------------------\u001B[0m",
      "\u001B[1;31mMemoryError\u001B[0m                               Traceback (most recent call last)",
      "Cell \u001B[1;32mIn[29], line 9\u001B[0m\n\u001B[0;32m      4\u001B[0m x \u001B[38;5;241m=\u001B[39m (i \u001B[38;5;241m*\u001B[39m\u001B[38;5;241m*\u001B[39m \u001B[38;5;241m3\u001B[39m \u001B[38;5;28;01mfor\u001B[39;00m i \u001B[38;5;129;01min\u001B[39;00m \u001B[38;5;28mrange\u001B[39m(\u001B[38;5;241m10\u001B[39m)) \n\u001B[0;32m      6\u001B[0m \u001B[38;5;66;03m#  [1] -> [2] -> [3]\u001B[39;00m\n\u001B[0;32m      7\u001B[0m \u001B[38;5;66;03m#  [3] ->\u001B[39;00m\n\u001B[1;32m----> 9\u001B[0m lst \u001B[38;5;241m=\u001B[39m [number \u001B[38;5;28;01mfor\u001B[39;00m number \u001B[38;5;129;01min\u001B[39;00m \u001B[38;5;28mrange\u001B[39m(\u001B[38;5;241m10000000000\u001B[39m)]\n\u001B[0;32m     10\u001B[0m generator_lst \u001B[38;5;241m=\u001B[39m (number \u001B[38;5;28;01mfor\u001B[39;00m number \u001B[38;5;129;01min\u001B[39;00m \u001B[38;5;28mrange\u001B[39m(\u001B[38;5;241m10000000000\u001B[39m))\n",
      "\u001B[1;31mMemoryError\u001B[0m: "
     ]
    }
   ],
   "execution_count": 29
  },
  {
   "cell_type": "code",
   "metadata": {},
   "source": [
    "x"
   ],
   "outputs": [],
   "execution_count": null
  },
  {
   "cell_type": "code",
   "metadata": {},
   "source": "x = tuple(x)    # Evaluate generator unitl the end",
   "outputs": [],
   "execution_count": null
  },
  {
   "cell_type": "code",
   "metadata": {},
   "source": [
    "x"
   ],
   "outputs": [],
   "execution_count": null
  },
  {
   "cell_type": "code",
   "metadata": {},
   "source": [],
   "outputs": [],
   "execution_count": null
  },
  {
   "metadata": {},
   "cell_type": "markdown",
   "source": [
    "## Defaultdict\n",
    "Dictionary, when trying to get non-existing key, returns a default value"
   ]
  },
  {
   "metadata": {},
   "cell_type": "code",
   "source": [
    "from collections import defaultdict\n",
    "\n",
    "\n",
    "d = defaultdict(int)\n",
    "print(d['somekey'])\n",
    "print(d.get('somekey'))\n",
    "\n",
    "print(d.items())\n"
   ],
   "outputs": [],
   "execution_count": null
  },
  {
   "metadata": {},
   "cell_type": "code",
   "source": "",
   "outputs": [],
   "execution_count": null
  }
 ],
 "metadata": {
  "kernelspec": {
   "display_name": "Python 3",
   "language": "python",
   "name": "python3"
  },
  "language_info": {
   "codemirror_mode": {
    "name": "ipython",
    "version": 3
   },
   "file_extension": ".py",
   "mimetype": "text/x-python",
   "name": "python",
   "nbconvert_exporter": "python",
   "pygments_lexer": "ipython3",
   "version": "3.7.4"
  }
 },
 "nbformat": 4,
 "nbformat_minor": 2
}
