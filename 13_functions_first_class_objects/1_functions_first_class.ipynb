{
 "cells": [
  {
   "cell_type": "markdown",
   "metadata": {},
   "source": [
    "Python’s functions are first-class objects. You can assign them to variables, store them in data structures, pass them as arguments to other functions, and even return them as values from other functions."
   ]
  },
  {
   "cell_type": "markdown",
   "metadata": {},
   "source": [
    "## Assign function to variable"
   ]
  },
  {
   "cell_type": "code",
   "metadata": {
    "ExecuteTime": {
     "end_time": "2024-08-06T17:34:59.242451Z",
     "start_time": "2024-08-06T17:34:59.234529Z"
    }
   },
   "source": [
    "\n",
    "def test(word: str) -> str:\n",
    "    return f\"Test {word}\"\n",
    "\n",
    "\n",
    "test2 = test\n",
    "test2('word')\n",
    "\n",
    "\n"
   ],
   "outputs": [
    {
     "data": {
      "text/plain": [
       "'Test word'"
      ]
     },
     "execution_count": 2,
     "metadata": {},
     "output_type": "execute_result"
    }
   ],
   "execution_count": 2
  },
  {
   "cell_type": "code",
   "execution_count": null,
   "metadata": {},
   "outputs": [],
   "source": [
    "test"
   ]
  },
  {
   "cell_type": "code",
   "execution_count": null,
   "metadata": {},
   "outputs": [],
   "source": "x = test"
  },
  {
   "cell_type": "code",
   "execution_count": null,
   "metadata": {},
   "outputs": [],
   "source": [
    "print(x)"
   ]
  },
  {
   "cell_type": "code",
   "execution_count": null,
   "metadata": {},
   "outputs": [],
   "source": [
    "x.__name__"
   ]
  },
  {
   "cell_type": "code",
   "execution_count": null,
   "metadata": {},
   "outputs": [],
   "source": [
    "x('this')"
   ]
  },
  {
   "cell_type": "code",
   "execution_count": null,
   "metadata": {},
   "outputs": [],
   "source": [
    "del x"
   ]
  },
  {
   "cell_type": "code",
   "execution_count": null,
   "metadata": {},
   "outputs": [],
   "source": [
    "x"
   ]
  },
  {
   "metadata": {
    "ExecuteTime": {
     "end_time": "2024-08-06T17:40:00.972139Z",
     "start_time": "2024-08-06T17:40:00.966723Z"
    }
   },
   "cell_type": "code",
   "source": [
    "\n",
    "def modify_list():\n",
    "    l = list(range(1000))\n",
    "    \n",
    "    return 234\n",
    "\n",
    "\n",
    "modify_list2 = modify_list\n",
    "del modify_list\n",
    "\n",
    "modify_list2()\n",
    "\n",
    "\n",
    "\n"
   ],
   "outputs": [
    {
     "data": {
      "text/plain": [
       "234"
      ]
     },
     "execution_count": 4,
     "metadata": {},
     "output_type": "execute_result"
    }
   ],
   "execution_count": 4
  },
  {
   "cell_type": "markdown",
   "metadata": {},
   "source": [
    "## Functions inside other data structures"
   ]
  },
  {
   "cell_type": "code",
   "metadata": {
    "ExecuteTime": {
     "end_time": "2024-08-06T17:41:38.987781Z",
     "start_time": "2024-08-06T17:41:38.984240Z"
    }
   },
   "source": [
    "x = [test]\n",
    "print(x)\n"
   ],
   "outputs": [
    {
     "name": "stdout",
     "output_type": "stream",
     "text": [
      "[<function test at 0x000002C75CEEDE40>]\n"
     ]
    }
   ],
   "execution_count": 5
  },
  {
   "cell_type": "code",
   "execution_count": null,
   "metadata": {},
   "outputs": [],
   "source": [
    "print(x)"
   ]
  },
  {
   "cell_type": "code",
   "execution_count": null,
   "metadata": {},
   "outputs": [],
   "source": [
    "word = \"Test\"\n",
    "command = 'up'\n",
    "if command == \"up\":\n",
    "    print(word.upper())\n",
    "elif command == \"down\":\n",
    "    print(word.lower())\n",
    "else:\n",
    "    print(\"Unknown command\")"
   ]
  },
  {
   "cell_type": "code",
   "execution_count": null,
   "metadata": {},
   "outputs": [],
   "source": [
    "from typing import Callable\n",
    "from collections import defaultdict\n",
    "\n",
    "word = \"Test\"\n",
    "command = 'down'\n",
    "def up(word: str):\n",
    "    print(word.upper())\n",
    "\n",
    "def down(word: str):\n",
    "    print(word.lower())\n",
    "\n",
    "def default(word: str):\n",
    "    print(f\"Unknown command, {word}\")\n",
    "\n",
    "\n",
    "# command_dict = defaultdict()\n",
    "command_dict: dict[str, Callable] = {\n",
    "    \"up\": up,\n",
    "    \"down\": down\n",
    "}\n",
    "\n",
    "# if command in command_dict:\n",
    "#     command_dict[command](word)\n",
    "# else:\n",
    "#     default()\n",
    "\n",
    "func = command_dict.get(command, default)()\n",
    "\n",
    "\n",
    "\n"
   ]
  },
  {
   "cell_type": "code",
   "execution_count": null,
   "metadata": {},
   "outputs": [],
   "source": [
    "func = command_dict.get(command, default)\n",
    "func('HELLO')"
   ]
  },
  {
   "cell_type": "markdown",
   "metadata": {},
   "source": [
    "## Functions could be returned from another function"
   ]
  },
  {
   "cell_type": "code",
   "metadata": {
    "ExecuteTime": {
     "end_time": "2024-08-06T17:51:43.183337Z",
     "start_time": "2024-08-06T17:51:43.178289Z"
    }
   },
   "source": [
    "from typing import Callable\n",
    "\n",
    "word = \"Test\"\n",
    "command = 'down'\n",
    "\n",
    "def up(word: str) -> None:\n",
    "    print(word.upper())\n",
    "\n",
    "def down(word: str) -> None:\n",
    "    print(word.lower())\n",
    "\n",
    "def default(*args, **kwargs) -> None:\n",
    "    print(\"Unknown command\")\n",
    "\n",
    "def process(command: str) -> Callable[[str], None]:\n",
    "    command_dict: dict[str, Callable] = {\n",
    "        \"up\": up,\n",
    "        \"down\": down\n",
    "    }\n",
    "    \n",
    "    return command_dict.get(command, default)\n",
    "\n",
    "\n",
    "func = process('down')\n",
    "func('Word')\n",
    "\n",
    "\n",
    "\n"
   ],
   "outputs": [
    {
     "name": "stdout",
     "output_type": "stream",
     "text": [
      "word\n"
     ]
    }
   ],
   "execution_count": 7
  },
  {
   "metadata": {
    "ExecuteTime": {
     "end_time": "2024-08-06T17:57:07.702779Z",
     "start_time": "2024-08-06T17:57:07.697223Z"
    }
   },
   "cell_type": "code",
   "source": [
    "from typing import Any\n",
    "\n",
    "container_value = [1,2,3,4,5]\n",
    "\n",
    "container_type = list | tuple | set | str\n",
    "\n",
    "\n",
    "def apply_function_to_container(container: container_type, func: Callable[[container_type], Any]) -> Any:\n",
    "    return func(container)\n",
    "\n",
    "def apply_function_to_container(container, func):\n",
    "    return func(container)\n",
    "\n",
    "def job_to_execute(cr, uid, job):\n",
    "    pass\n",
    "\n",
    "\n",
    "\n",
    "\n",
    "sum_container = apply_function_to_container(container_value, sum)\n",
    "print(sum_container)\n",
    "\n"
   ],
   "outputs": [
    {
     "name": "stdout",
     "output_type": "stream",
     "text": [
      "15\n"
     ]
    }
   ],
   "execution_count": 8
  },
  {
   "cell_type": "code",
   "execution_count": null,
   "metadata": {},
   "outputs": [],
   "source": [
    "process('up')('Test1')"
   ]
  },
  {
   "cell_type": "code",
   "execution_count": null,
   "metadata": {},
   "outputs": [],
   "source": [
    "func = process(command)\n",
    "func(word)"
   ]
  },
  {
   "cell_type": "markdown",
   "metadata": {},
   "source": [
    "## Nested functions"
   ]
  },
  {
   "cell_type": "code",
   "metadata": {
    "ExecuteTime": {
     "end_time": "2024-08-06T18:22:50.693718Z",
     "start_time": "2024-08-06T18:22:50.687188Z"
    }
   },
   "source": [
    "def test(word):\n",
    "    def low(it):\n",
    "        if it.isdigit():\n",
    "            return 'N'\n",
    "        return it.lower()\n",
    "    res = ''\n",
    "    for i in word:\n",
    "        res += low(i)\n",
    "    return res\n",
    "\n",
    "\n",
    "def lowercase(word: str) -> str:\n",
    "    def process(symbol: str) -> str:\n",
    "        return 'N' if symbol.isdigit() else symbol.lower()\n",
    "    \n",
    "    symbols = [process(symbol) for symbol in word]\n",
    "    return ''.join(symbols)\n",
    "\n",
    "\n",
    "lowercase('TRY34355LOwERCaSE')\n",
    "\n",
    "\n",
    "        \n",
    "\n",
    "\n"
   ],
   "outputs": [
    {
     "data": {
      "text/plain": [
       "'tryNNNNNlowercase'"
      ]
     },
     "execution_count": 9,
     "metadata": {},
     "output_type": "execute_result"
    }
   ],
   "execution_count": 9
  },
  {
   "cell_type": "code",
   "execution_count": null,
   "metadata": {},
   "outputs": [],
   "source": [
    "test('Hello1')"
   ]
  },
  {
   "cell_type": "markdown",
   "metadata": {},
   "source": [
    "## Functions could be passed to another function"
   ]
  },
  {
   "cell_type": "code",
   "metadata": {
    "ExecuteTime": {
     "end_time": "2024-08-06T18:35:09.751065Z",
     "start_time": "2024-08-06T18:35:06.744837Z"
    }
   },
   "source": [
    "import time\n",
    "from random import randint\n",
    "import datetime\n",
    "\n",
    "def logger_func(func):\n",
    "    print('before execution')\n",
    "    func()\n",
    "    print('after execution')\n",
    "\n",
    "\n",
    "def business_logic(param1: str, param2: str) -> str:\n",
    "    time.sleep(randint(1, 5))\n",
    "    return f'Business result {param1} {param2}'\n",
    "\n",
    "\n",
    "def timer(func: Callable, *args, **kwargs):\n",
    "    start_time = datetime.datetime.now()\n",
    "    func(*args, **kwargs)\n",
    "    end_time = datetime.datetime.now()\n",
    "    diff_time = end_time - start_time\n",
    "    print(f'Time took: {diff_time}')\n",
    "\n",
    "\n",
    "timer(business_logic, 'word1', 'word2')"
   ],
   "outputs": [
    {
     "name": "stdout",
     "output_type": "stream",
     "text": [
      "Time took: 0:00:03.000681\n"
     ]
    }
   ],
   "execution_count": 12
  },
  {
   "cell_type": "code",
   "execution_count": null,
   "metadata": {},
   "outputs": [],
   "source": [
    "def test():\n",
    "    print('inside test func')"
   ]
  },
  {
   "cell_type": "code",
   "execution_count": null,
   "metadata": {},
   "outputs": [],
   "source": [
    "logger_func(test)"
   ]
  },
  {
   "cell_type": "code",
   "execution_count": null,
   "metadata": {},
   "outputs": [],
   "source": [
    "def logger_func(func, var):\n",
    "    print('before execution')\n",
    "    func(var)\n",
    "    print('after execution')\n",
    "    \n",
    "def test(name):\n",
    "    print(f'My name is {name}')\n",
    "    \n",
    "logger_func(test, 'SpiderMan')"
   ]
  },
  {
   "cell_type": "code",
   "execution_count": null,
   "metadata": {},
   "outputs": [],
   "source": [
    "def logger_func(func, *args, **kwargs):\n",
    "    print('before execution')\n",
    "    func(*args, **kwargs)\n",
    "    print('after execution')\n",
    "    \n",
    "def test(*args, **kwargs):\n",
    "    print('Args:', args, type(args))\n",
    "    print('Kwargs:', kwargs, type(kwargs))\n",
    "    \n",
    "logger_func(test, 'SpiderMan', \"Batman\", x=1)"
   ]
  },
  {
   "cell_type": "markdown",
   "metadata": {},
   "source": [
    "## Objects can behave like functions"
   ]
  },
  {
   "cell_type": "code",
   "metadata": {
    "ExecuteTime": {
     "end_time": "2024-08-06T18:39:33.594478Z",
     "start_time": "2024-08-06T18:39:33.590201Z"
    }
   },
   "source": [
    "# Highly likely you would not get it - we didn't talk about classes\n",
    "# But __call__ magic method - is what makes objects `callable`\n",
    "class Adder:\n",
    "    def __init__(self, counter: int):\n",
    "         self.counter = counter\n",
    "    def __call__(self, added_value: int):\n",
    "        return self.counter + added_value\n",
    "\n",
    "\n",
    "adder = Adder(10)\n",
    "print(adder(5))\n",
    "\n",
    "\n"
   ],
   "outputs": [
    {
     "name": "stdout",
     "output_type": "stream",
     "text": [
      "15\n"
     ]
    }
   ],
   "execution_count": 14
  },
  {
   "cell_type": "code",
   "execution_count": null,
   "metadata": {},
   "outputs": [],
   "source": [
    "x = Adder(10)"
   ]
  },
  {
   "cell_type": "code",
   "execution_count": null,
   "metadata": {},
   "outputs": [],
   "source": [
    "x"
   ]
  },
  {
   "cell_type": "code",
   "execution_count": null,
   "metadata": {},
   "outputs": [],
   "source": [
    "x(10)"
   ]
  }
 ],
 "metadata": {
  "kernelspec": {
   "display_name": "Python 3",
   "language": "python",
   "name": "python3"
  },
  "language_info": {
   "codemirror_mode": {
    "name": "ipython",
    "version": 3
   },
   "file_extension": ".py",
   "mimetype": "text/x-python",
   "name": "python",
   "nbconvert_exporter": "python",
   "pygments_lexer": "ipython3",
   "version": "3.7.4"
  }
 },
 "nbformat": 4,
 "nbformat_minor": 2
}
