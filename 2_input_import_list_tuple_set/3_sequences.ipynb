{
 "cells": [
  {
   "cell_type": "markdown",
   "metadata": {},
   "source": [
    "There are three basic sequence types: `lists`, `tuples`, and `range` objects.\n",
    "\n",
    "It is worth mentioning that `strings` are also a sequence type in Python.\n",
    "\n",
    "Besides that, python also has unordered collections - `sets` and `dictionaries`."
   ]
  },
  {
   "cell_type": "markdown",
   "metadata": {},
   "source": [
    "## Lists and Tuples"
   ]
  },
  {
   "cell_type": "code",
   "metadata": {
    "ExecuteTime": {
     "end_time": "2024-07-19T20:49:19.585139Z",
     "start_time": "2024-07-19T20:49:19.582392Z"
    }
   },
   "source": "our_first_list = [1, 2, 3]  # homogenous - one type of content",
   "outputs": [],
   "execution_count": 77
  },
  {
   "cell_type": "code",
   "metadata": {
    "ExecuteTime": {
     "end_time": "2024-07-19T20:49:20.343192Z",
     "start_time": "2024-07-19T20:49:20.339274Z"
    }
   },
   "source": "another = [1, '1', 3.0]  # heterogenous - different types of content",
   "outputs": [],
   "execution_count": 78
  },
  {
   "cell_type": "code",
   "metadata": {
    "ExecuteTime": {
     "end_time": "2024-07-19T20:49:20.367143Z",
     "start_time": "2024-07-19T20:49:20.363935Z"
    }
   },
   "source": [
    "print(our_first_list)"
   ],
   "outputs": [
    {
     "name": "stdout",
     "output_type": "stream",
     "text": [
      "[1, 2, 3]\n"
     ]
    }
   ],
   "execution_count": 79
  },
  {
   "cell_type": "code",
   "metadata": {
    "ExecuteTime": {
     "end_time": "2024-07-19T20:49:20.403100Z",
     "start_time": "2024-07-19T20:49:20.400546Z"
    }
   },
   "source": [
    "# Tuples are immutable - unchangable\n",
    "our_first_tuple = (1, 2, 3)\n",
    "# our_first_tuple[0] = 2\n",
    "\n",
    "another_tuple = (1, '1', 3.0)"
   ],
   "outputs": [],
   "execution_count": 80
  },
  {
   "cell_type": "code",
   "metadata": {
    "ExecuteTime": {
     "end_time": "2024-07-19T20:49:20.462963Z",
     "start_time": "2024-07-19T20:49:20.459120Z"
    }
   },
   "source": [
    "print(another_tuple)"
   ],
   "outputs": [
    {
     "name": "stdout",
     "output_type": "stream",
     "text": [
      "(1, '1', 3.0)\n"
     ]
    }
   ],
   "execution_count": 81
  },
  {
   "cell_type": "markdown",
   "metadata": {},
   "source": [
    "## Common operations for lists and tuples"
   ]
  },
  {
   "cell_type": "code",
   "metadata": {
    "ExecuteTime": {
     "end_time": "2024-07-19T20:49:20.504245Z",
     "start_time": "2024-07-19T20:49:20.500990Z"
    }
   },
   "source": [
    "x = 1\n",
    "y = 'c'"
   ],
   "outputs": [],
   "execution_count": 82
  },
  {
   "cell_type": "code",
   "metadata": {
    "ExecuteTime": {
     "end_time": "2024-07-19T20:49:20.591275Z",
     "start_time": "2024-07-19T20:49:20.587287Z"
    }
   },
   "source": [
    "print(our_first_list)\n",
    "print(another_tuple)"
   ],
   "outputs": [
    {
     "name": "stdout",
     "output_type": "stream",
     "text": [
      "[1, 2, 3]\n",
      "(1, '1', 3.0)\n"
     ]
    }
   ],
   "execution_count": 83
  },
  {
   "cell_type": "code",
   "metadata": {
    "ExecuteTime": {
     "end_time": "2024-07-19T20:49:20.626440Z",
     "start_time": "2024-07-19T20:49:20.622690Z"
    }
   },
   "source": [
    "# Checking contents - returns boolean value\n",
    "print(x in our_first_list)\n",
    "print(y in another_tuple)\n",
    "print(x not in our_first_list)"
   ],
   "outputs": [
    {
     "name": "stdout",
     "output_type": "stream",
     "text": [
      "True\n",
      "False\n",
      "False\n"
     ]
    }
   ],
   "execution_count": 84
  },
  {
   "cell_type": "code",
   "metadata": {
    "ExecuteTime": {
     "end_time": "2024-07-19T20:49:20.691736Z",
     "start_time": "2024-07-19T20:49:20.687722Z"
    }
   },
   "source": [
    "# Add lists\n",
    "[1, 2, 3] + [4, 5, 6]  # concatenation"
   ],
   "outputs": [
    {
     "data": {
      "text/plain": [
       "[1, 2, 3, 4, 5, 6]"
      ]
     },
     "execution_count": 85,
     "metadata": {},
     "output_type": "execute_result"
    }
   ],
   "execution_count": 85
  },
  {
   "metadata": {
    "ExecuteTime": {
     "end_time": "2024-07-19T20:49:20.741770Z",
     "start_time": "2024-07-19T20:49:20.736759Z"
    }
   },
   "cell_type": "code",
   "source": [
    "# Unpacking lists\n",
    "list_1 = [1, 2, 3]\n",
    "list_2 = [4, 5, 6]\n",
    "[*list_1, *list_2]"
   ],
   "outputs": [
    {
     "data": {
      "text/plain": [
       "[1, 2, 3, 4, 5, 6]"
      ]
     },
     "execution_count": 86,
     "metadata": {},
     "output_type": "execute_result"
    }
   ],
   "execution_count": 86
  },
  {
   "cell_type": "code",
   "metadata": {
    "ExecuteTime": {
     "end_time": "2024-07-19T20:49:20.800163Z",
     "start_time": "2024-07-19T20:49:20.795794Z"
    }
   },
   "source": [
    "[0] * 5"
   ],
   "outputs": [
    {
     "data": {
      "text/plain": [
       "[0, 0, 0, 0, 0]"
      ]
     },
     "execution_count": 87,
     "metadata": {},
     "output_type": "execute_result"
    }
   ],
   "execution_count": 87
  },
  {
   "cell_type": "code",
   "metadata": {
    "ExecuteTime": {
     "end_time": "2024-07-19T20:49:20.847327Z",
     "start_time": "2024-07-19T20:49:20.844184Z"
    }
   },
   "source": [
    "print(0 * 5)\n",
    "print((0,) * 5)  # tuple of one element must have comma"
   ],
   "outputs": [
    {
     "name": "stdout",
     "output_type": "stream",
     "text": [
      "0\n",
      "(0, 0, 0, 0, 0)\n"
     ]
    }
   ],
   "execution_count": 88
  },
  {
   "cell_type": "code",
   "metadata": {
    "ExecuteTime": {
     "end_time": "2024-07-19T20:49:20.932428Z",
     "start_time": "2024-07-19T20:49:20.929358Z"
    }
   },
   "source": [
    "x = (0)"
   ],
   "outputs": [],
   "execution_count": 89
  },
  {
   "cell_type": "code",
   "metadata": {
    "ExecuteTime": {
     "end_time": "2024-07-19T20:49:20.976933Z",
     "start_time": "2024-07-19T20:49:20.973446Z"
    }
   },
   "source": [
    "print(x)\n"
   ],
   "outputs": [
    {
     "name": "stdout",
     "output_type": "stream",
     "text": [
      "0\n"
     ]
    }
   ],
   "execution_count": 90
  },
  {
   "cell_type": "code",
   "metadata": {
    "ExecuteTime": {
     "end_time": "2024-07-19T20:49:21.080349Z",
     "start_time": "2024-07-19T20:49:21.075960Z"
    }
   },
   "source": [
    "print('Length of our list', len(our_first_list))\n",
    "print('Max element in list', max(our_first_list))\n",
    "print('Min element in list', min(our_first_list))"
   ],
   "outputs": [
    {
     "name": "stdout",
     "output_type": "stream",
     "text": [
      "Length of our list 3\n",
      "Max element in list 3\n",
      "Min element in list 1\n"
     ]
    }
   ],
   "execution_count": 91
  },
  {
   "cell_type": "code",
   "metadata": {
    "ExecuteTime": {
     "end_time": "2024-07-19T20:49:21.104807Z",
     "start_time": "2024-07-19T20:49:21.099357Z"
    }
   },
   "source": [
    "test_list = [9, 6, 3, 10, 8, 2, 2, 6, 1, 10, 10, 6]\n",
    "print('Number of 6 digits in list: ', test_list.count(6))\n",
    "print('Index of first accurance of digit 3 in list: ', test_list.index(3))\n",
    "print('Some other method check with . notation: ', test_list)"
   ],
   "outputs": [
    {
     "name": "stdout",
     "output_type": "stream",
     "text": [
      "Number of 6 digits in list:  3\n",
      "Index of first accurance of digit 3 in list:  2\n",
      "Some other method check with . notation:  [9, 6, 3, 10, 8, 2, 2, 6, 1, 10, 10, 6]\n"
     ]
    }
   ],
   "execution_count": 92
  },
  {
   "metadata": {
    "ExecuteTime": {
     "end_time": "2024-07-19T20:49:21.144314Z",
     "start_time": "2024-07-19T20:49:21.140820Z"
    }
   },
   "cell_type": "code",
   "source": [
    "# Indexing and slicing equivalent to strings [start:stop_excl:step]\n",
    "print(test_list[0])  # index from 0\n",
    "print(test_list[1])\n",
    "print(test_list[1:4])\n",
    "print(test_list[::2])"
   ],
   "outputs": [
    {
     "name": "stdout",
     "output_type": "stream",
     "text": [
      "9\n",
      "6\n",
      "[6, 3, 10]\n",
      "[9, 3, 8, 2, 1, 10]\n"
     ]
    }
   ],
   "execution_count": 93
  },
  {
   "metadata": {
    "ExecuteTime": {
     "end_time": "2024-07-19T20:49:21.238567Z",
     "start_time": "2024-07-19T20:49:21.233720Z"
    }
   },
   "cell_type": "code",
   "source": "test_list[-1]",
   "outputs": [
    {
     "data": {
      "text/plain": [
       "6"
      ]
     },
     "execution_count": 94,
     "metadata": {},
     "output_type": "execute_result"
    }
   ],
   "execution_count": 94
  },
  {
   "cell_type": "markdown",
   "metadata": {},
   "source": [
    "# Difference between lists and tuples.\n",
    "Mutable and Immutable objects\n",
    "\n",
    "In a nutshell, a mutable object can be changed after it is created, and an immutable object can’t."
   ]
  },
  {
   "cell_type": "code",
   "metadata": {
    "ExecuteTime": {
     "end_time": "2024-07-19T20:49:21.332086Z",
     "start_time": "2024-07-19T20:49:21.328348Z"
    }
   },
   "source": [
    "x = [1, 2, 3]    # List is changeable\n",
    "y = (1, 2, 3)    # Tuple is unchangeable"
   ],
   "outputs": [],
   "execution_count": 95
  },
  {
   "cell_type": "code",
   "metadata": {
    "ExecuteTime": {
     "end_time": "2024-07-19T20:49:21.364270Z",
     "start_time": "2024-07-19T20:49:21.360116Z"
    }
   },
   "source": [
    "x[1] = 101\n",
    "print(x)"
   ],
   "outputs": [
    {
     "name": "stdout",
     "output_type": "stream",
     "text": [
      "[1, 101, 3]\n"
     ]
    }
   ],
   "execution_count": 96
  },
  {
   "cell_type": "code",
   "metadata": {
    "ExecuteTime": {
     "end_time": "2024-07-19T20:49:21.447878Z",
     "start_time": "2024-07-19T20:49:21.437310Z"
    }
   },
   "source": [
    "y[1] = 101"
   ],
   "outputs": [
    {
     "ename": "TypeError",
     "evalue": "'tuple' object does not support item assignment",
     "output_type": "error",
     "traceback": [
      "\u001B[1;31m---------------------------------------------------------------------------\u001B[0m",
      "\u001B[1;31mTypeError\u001B[0m                                 Traceback (most recent call last)",
      "Cell \u001B[1;32mIn[97], line 1\u001B[0m\n\u001B[1;32m----> 1\u001B[0m \u001B[43my\u001B[49m\u001B[43m[\u001B[49m\u001B[38;5;241;43m1\u001B[39;49m\u001B[43m]\u001B[49m \u001B[38;5;241m=\u001B[39m \u001B[38;5;241m101\u001B[39m\n",
      "\u001B[1;31mTypeError\u001B[0m: 'tuple' object does not support item assignment"
     ]
    }
   ],
   "execution_count": 97
  },
  {
   "cell_type": "code",
   "metadata": {
    "ExecuteTime": {
     "end_time": "2024-07-19T20:49:21.492665Z",
     "start_time": "2024-07-19T20:49:21.488897Z"
    }
   },
   "source": [
    "y = y[:1] + (101,) + y[2:]\n",
    "print(y)"
   ],
   "outputs": [
    {
     "name": "stdout",
     "output_type": "stream",
     "text": [
      "(1, 101, 3)\n"
     ]
    }
   ],
   "execution_count": 98
  },
  {
   "cell_type": "markdown",
   "metadata": {},
   "source": [
    "## List methods"
   ]
  },
  {
   "cell_type": "code",
   "metadata": {
    "ExecuteTime": {
     "end_time": "2024-07-19T20:49:21.679789Z",
     "start_time": "2024-07-19T20:49:21.676179Z"
    }
   },
   "source": "l = [1, 2, 3, 4]",
   "outputs": [],
   "execution_count": 99
  },
  {
   "cell_type": "code",
   "metadata": {
    "ExecuteTime": {
     "end_time": "2024-07-19T20:49:22.099662Z",
     "start_time": "2024-07-19T20:49:22.094681Z"
    }
   },
   "source": [
    "l.append([5, 6])   # Add element to list\n",
    "print(l)"
   ],
   "outputs": [
    {
     "name": "stdout",
     "output_type": "stream",
     "text": [
      "[1, 2, 3, 4, [5, 6]]\n"
     ]
    }
   ],
   "execution_count": 100
  },
  {
   "cell_type": "code",
   "metadata": {
    "ExecuteTime": {
     "end_time": "2024-07-19T20:49:22.204565Z",
     "start_time": "2024-07-19T20:49:22.201213Z"
    }
   },
   "source": [
    "l.extend([6, 7])   # Add elements to given list from iterable in parameter\n",
    "print(l)"
   ],
   "outputs": [
    {
     "name": "stdout",
     "output_type": "stream",
     "text": [
      "[1, 2, 3, 4, [5, 6], 6, 7]\n"
     ]
    }
   ],
   "execution_count": 101
  },
  {
   "cell_type": "code",
   "metadata": {
    "ExecuteTime": {
     "end_time": "2024-07-19T20:49:22.231103Z",
     "start_time": "2024-07-19T20:49:22.228573Z"
    }
   },
   "source": [
    "l.extend((8, 9))  # Both list and tuple are iterable, can be iterated over elements\n",
    "print(l)"
   ],
   "outputs": [
    {
     "name": "stdout",
     "output_type": "stream",
     "text": [
      "[1, 2, 3, 4, [5, 6], 6, 7, 8, 9]\n"
     ]
    }
   ],
   "execution_count": 102
  },
  {
   "cell_type": "code",
   "metadata": {
    "ExecuteTime": {
     "end_time": "2024-07-19T20:49:22.314996Z",
     "start_time": "2024-07-19T20:49:22.312289Z"
    }
   },
   "source": [
    "x = l.pop()   # Remove element and return it\n",
    "print(l)"
   ],
   "outputs": [
    {
     "name": "stdout",
     "output_type": "stream",
     "text": [
      "[1, 2, 3, 4, [5, 6], 6, 7, 8]\n"
     ]
    }
   ],
   "execution_count": 103
  },
  {
   "cell_type": "code",
   "metadata": {
    "ExecuteTime": {
     "end_time": "2024-07-19T20:49:22.365259Z",
     "start_time": "2024-07-19T20:49:22.362011Z"
    }
   },
   "source": [
    "print(x)"
   ],
   "outputs": [
    {
     "name": "stdout",
     "output_type": "stream",
     "text": [
      "9\n"
     ]
    }
   ],
   "execution_count": 104
  },
  {
   "cell_type": "code",
   "metadata": {
    "ExecuteTime": {
     "end_time": "2024-07-19T20:49:22.440786Z",
     "start_time": "2024-07-19T20:49:22.436865Z"
    }
   },
   "source": [
    "print(l)"
   ],
   "outputs": [
    {
     "name": "stdout",
     "output_type": "stream",
     "text": [
      "[1, 2, 3, 4, [5, 6], 6, 7, 8]\n"
     ]
    }
   ],
   "execution_count": 105
  },
  {
   "cell_type": "code",
   "metadata": {
    "ExecuteTime": {
     "end_time": "2024-07-19T20:49:22.506567Z",
     "start_time": "2024-07-19T20:49:22.495379Z"
    }
   },
   "source": "q = l.pop(10)     # Cannot pop at non-existing index",
   "outputs": [
    {
     "ename": "IndexError",
     "evalue": "pop index out of range",
     "output_type": "error",
     "traceback": [
      "\u001B[1;31m---------------------------------------------------------------------------\u001B[0m",
      "\u001B[1;31mIndexError\u001B[0m                                Traceback (most recent call last)",
      "Cell \u001B[1;32mIn[106], line 1\u001B[0m\n\u001B[1;32m----> 1\u001B[0m q \u001B[38;5;241m=\u001B[39m \u001B[43ml\u001B[49m\u001B[38;5;241;43m.\u001B[39;49m\u001B[43mpop\u001B[49m\u001B[43m(\u001B[49m\u001B[38;5;241;43m10\u001B[39;49m\u001B[43m)\u001B[49m     \u001B[38;5;66;03m# Cannot pop at non-existing index\u001B[39;00m\n",
      "\u001B[1;31mIndexError\u001B[0m: pop index out of range"
     ]
    }
   ],
   "execution_count": 106
  },
  {
   "cell_type": "code",
   "metadata": {
    "ExecuteTime": {
     "end_time": "2024-07-19T20:49:22.560519Z",
     "start_time": "2024-07-19T20:49:22.557592Z"
    }
   },
   "source": [
    "print(l)"
   ],
   "outputs": [
    {
     "name": "stdout",
     "output_type": "stream",
     "text": [
      "[1, 2, 3, 4, [5, 6], 6, 7, 8]\n"
     ]
    }
   ],
   "execution_count": 107
  },
  {
   "cell_type": "code",
   "metadata": {
    "ExecuteTime": {
     "end_time": "2024-07-19T20:49:22.612212Z",
     "start_time": "2024-07-19T20:49:22.601546Z"
    }
   },
   "source": [
    "print(q)"
   ],
   "outputs": [
    {
     "ename": "NameError",
     "evalue": "name 'q' is not defined",
     "output_type": "error",
     "traceback": [
      "\u001B[1;31m---------------------------------------------------------------------------\u001B[0m",
      "\u001B[1;31mNameError\u001B[0m                                 Traceback (most recent call last)",
      "Cell \u001B[1;32mIn[108], line 1\u001B[0m\n\u001B[1;32m----> 1\u001B[0m \u001B[38;5;28mprint\u001B[39m(\u001B[43mq\u001B[49m)\n",
      "\u001B[1;31mNameError\u001B[0m: name 'q' is not defined"
     ]
    }
   ],
   "execution_count": 108
  },
  {
   "cell_type": "code",
   "metadata": {
    "ExecuteTime": {
     "end_time": "2024-07-19T20:49:22.685826Z",
     "start_time": "2024-07-19T20:49:22.682239Z"
    }
   },
   "source": [
    "l.remove(2)    # Remove - mostly not used, because needs to search over whole list\n",
    "print(l)"
   ],
   "outputs": [
    {
     "name": "stdout",
     "output_type": "stream",
     "text": [
      "[1, 3, 4, [5, 6], 6, 7, 8]\n"
     ]
    }
   ],
   "execution_count": 109
  },
  {
   "cell_type": "code",
   "metadata": {
    "ExecuteTime": {
     "end_time": "2024-07-19T20:49:22.712235Z",
     "start_time": "2024-07-19T20:49:22.708306Z"
    }
   },
   "source": [
    "l.insert(0, 1)    #  index, element to insert\n",
    "print(l)"
   ],
   "outputs": [
    {
     "name": "stdout",
     "output_type": "stream",
     "text": [
      "[1, 1, 3, 4, [5, 6], 6, 7, 8]\n"
     ]
    }
   ],
   "execution_count": 110
  },
  {
   "cell_type": "markdown",
   "metadata": {},
   "source": [
    "## Range \n",
    "\n",
    "`Ranges` implement all of the common sequence operations except concatenation and repetition (due to the fact that range objects can only represent sequences that follow a strict pattern, and repetition and concatenation would usually violate that pattern)."
   ]
  },
  {
   "cell_type": "code",
   "metadata": {
    "ExecuteTime": {
     "end_time": "2024-07-19T20:49:22.824844Z",
     "start_time": "2024-07-19T20:49:22.819544Z"
    }
   },
   "source": "range(10)",
   "outputs": [
    {
     "data": {
      "text/plain": [
       "range(0, 10)"
      ]
     },
     "execution_count": 111,
     "metadata": {},
     "output_type": "execute_result"
    }
   ],
   "execution_count": 111
  },
  {
   "cell_type": "code",
   "metadata": {
    "ExecuteTime": {
     "end_time": "2024-07-19T20:49:22.847265Z",
     "start_time": "2024-07-19T20:49:22.842851Z"
    }
   },
   "source": [
    "list(range(10))"
   ],
   "outputs": [
    {
     "data": {
      "text/plain": [
       "[0, 1, 2, 3, 4, 5, 6, 7, 8, 9]"
      ]
     },
     "execution_count": 112,
     "metadata": {},
     "output_type": "execute_result"
    }
   ],
   "execution_count": 112
  },
  {
   "cell_type": "code",
   "metadata": {
    "ExecuteTime": {
     "end_time": "2024-07-19T20:49:22.891544Z",
     "start_time": "2024-07-19T20:49:22.887297Z"
    }
   },
   "source": [
    "range(0, 10)"
   ],
   "outputs": [
    {
     "data": {
      "text/plain": [
       "range(0, 10)"
      ]
     },
     "execution_count": 113,
     "metadata": {},
     "output_type": "execute_result"
    }
   ],
   "execution_count": 113
  },
  {
   "cell_type": "code",
   "metadata": {
    "ExecuteTime": {
     "end_time": "2024-07-19T20:49:22.983721Z",
     "start_time": "2024-07-19T20:49:22.979567Z"
    }
   },
   "source": "range(0, 10, 1)     # Start, stop (excluding), step",
   "outputs": [
    {
     "data": {
      "text/plain": [
       "range(0, 10)"
      ]
     },
     "execution_count": 114,
     "metadata": {},
     "output_type": "execute_result"
    }
   ],
   "execution_count": 114
  },
  {
   "cell_type": "code",
   "metadata": {
    "ExecuteTime": {
     "end_time": "2024-07-19T20:49:23.048318Z",
     "start_time": "2024-07-19T20:49:23.042756Z"
    }
   },
   "source": [
    "help(range)"
   ],
   "outputs": [
    {
     "name": "stdout",
     "output_type": "stream",
     "text": [
      "Help on class range in module builtins:\n",
      "\n",
      "class range(object)\n",
      " |  range(stop) -> range object\n",
      " |  range(start, stop[, step]) -> range object\n",
      " |\n",
      " |  Return an object that produces a sequence of integers from start (inclusive)\n",
      " |  to stop (exclusive) by step.  range(i, j) produces i, i+1, i+2, ..., j-1.\n",
      " |  start defaults to 0, and stop is omitted!  range(4) produces 0, 1, 2, 3.\n",
      " |  These are exactly the valid indices for a list of 4 elements.\n",
      " |  When step is given, it specifies the increment (or decrement).\n",
      " |\n",
      " |  Methods defined here:\n",
      " |\n",
      " |  __bool__(self, /)\n",
      " |      True if self else False\n",
      " |\n",
      " |  __contains__(self, key, /)\n",
      " |      Return bool(key in self).\n",
      " |\n",
      " |  __eq__(self, value, /)\n",
      " |      Return self==value.\n",
      " |\n",
      " |  __ge__(self, value, /)\n",
      " |      Return self>=value.\n",
      " |\n",
      " |  __getattribute__(self, name, /)\n",
      " |      Return getattr(self, name).\n",
      " |\n",
      " |  __getitem__(self, key, /)\n",
      " |      Return self[key].\n",
      " |\n",
      " |  __gt__(self, value, /)\n",
      " |      Return self>value.\n",
      " |\n",
      " |  __hash__(self, /)\n",
      " |      Return hash(self).\n",
      " |\n",
      " |  __iter__(self, /)\n",
      " |      Implement iter(self).\n",
      " |\n",
      " |  __le__(self, value, /)\n",
      " |      Return self<=value.\n",
      " |\n",
      " |  __len__(self, /)\n",
      " |      Return len(self).\n",
      " |\n",
      " |  __lt__(self, value, /)\n",
      " |      Return self<value.\n",
      " |\n",
      " |  __ne__(self, value, /)\n",
      " |      Return self!=value.\n",
      " |\n",
      " |  __reduce__(...)\n",
      " |      Helper for pickle.\n",
      " |\n",
      " |  __repr__(self, /)\n",
      " |      Return repr(self).\n",
      " |\n",
      " |  __reversed__(...)\n",
      " |      Return a reverse iterator.\n",
      " |\n",
      " |  count(...)\n",
      " |      rangeobject.count(value) -> integer -- return number of occurrences of value\n",
      " |\n",
      " |  index(...)\n",
      " |      rangeobject.index(value) -> integer -- return index of value.\n",
      " |      Raise ValueError if the value is not present.\n",
      " |\n",
      " |  ----------------------------------------------------------------------\n",
      " |  Static methods defined here:\n",
      " |\n",
      " |  __new__(*args, **kwargs)\n",
      " |      Create and return a new object.  See help(type) for accurate signature.\n",
      " |\n",
      " |  ----------------------------------------------------------------------\n",
      " |  Data descriptors defined here:\n",
      " |\n",
      " |  start\n",
      " |\n",
      " |  step\n",
      " |\n",
      " |  stop\n",
      "\n"
     ]
    }
   ],
   "execution_count": 115
  },
  {
   "cell_type": "code",
   "metadata": {
    "ExecuteTime": {
     "end_time": "2024-07-19T20:49:23.086812Z",
     "start_time": "2024-07-19T20:49:23.082330Z"
    }
   },
   "source": [
    "list(range(0, -10, -1))"
   ],
   "outputs": [
    {
     "data": {
      "text/plain": [
       "[0, -1, -2, -3, -4, -5, -6, -7, -8, -9]"
      ]
     },
     "execution_count": 116,
     "metadata": {},
     "output_type": "execute_result"
    }
   ],
   "execution_count": 116
  },
  {
   "cell_type": "code",
   "metadata": {
    "ExecuteTime": {
     "end_time": "2024-07-19T20:49:23.165228Z",
     "start_time": "2024-07-19T20:49:23.161853Z"
    }
   },
   "source": [
    "r = range(10)\n",
    "print(r[0])\n",
    "print(list(r[1:5]))"
   ],
   "outputs": [
    {
     "name": "stdout",
     "output_type": "stream",
     "text": [
      "0\n",
      "[1, 2, 3, 4]\n"
     ]
    }
   ],
   "execution_count": 117
  },
  {
   "cell_type": "code",
   "metadata": {
    "ExecuteTime": {
     "end_time": "2024-07-19T20:49:23.190174Z",
     "start_time": "2024-07-19T20:49:23.185254Z"
    }
   },
   "source": [
    "range_len = 10\n",
    "range_obj = range(range_len)\n",
    "i = 0\n",
    "t = [1, 2, 3, 4, 5, 6, 7, 8, 9, 10]\n",
    "while i < range_len:\n",
    "    print(range_obj[i], t[i])\n",
    "    i += 1"
   ],
   "outputs": [
    {
     "name": "stdout",
     "output_type": "stream",
     "text": [
      "0 1\n",
      "1 2\n",
      "2 3\n",
      "3 4\n",
      "4 5\n",
      "5 6\n",
      "6 7\n",
      "7 8\n",
      "8 9\n",
      "9 10\n"
     ]
    }
   ],
   "execution_count": 118
  },
  {
   "cell_type": "markdown",
   "metadata": {},
   "source": "Python built-in function `range()` and generated `range` objects are generally used to iterate over with for loop, which will be mentioned in future lesson about `for-in` loop"
  },
  {
   "cell_type": "code",
   "metadata": {
    "ExecuteTime": {
     "end_time": "2024-07-19T20:49:23.265035Z",
     "start_time": "2024-07-19T20:49:23.261201Z"
    }
   },
   "source": [
    "l = [1, 2, 3, 4]\n",
    "for i in range(len(l)):\n",
    "    print(l[i])"
   ],
   "outputs": [
    {
     "name": "stdout",
     "output_type": "stream",
     "text": [
      "1\n",
      "2\n",
      "3\n",
      "4\n"
     ]
    }
   ],
   "execution_count": 119
  },
  {
   "cell_type": "markdown",
   "metadata": {},
   "source": [
    "## Sets\n",
    "\n",
    "A `set` object is an unordered collection of distinct objects.\n",
    "Common uses include membership testing, removing duplicates from a sequence, and computing mathematical operations such as intersection, union, difference, and symmetric difference"
   ]
  },
  {
   "cell_type": "code",
   "metadata": {
    "ExecuteTime": {
     "end_time": "2024-07-19T20:49:23.327593Z",
     "start_time": "2024-07-19T20:49:23.324065Z"
    }
   },
   "source": "s = {1, 2, 3, 4, 4}   ",
   "outputs": [],
   "execution_count": 120
  },
  {
   "cell_type": "code",
   "metadata": {
    "ExecuteTime": {
     "end_time": "2024-07-19T20:49:23.403646Z",
     "start_time": "2024-07-19T20:49:23.399633Z"
    }
   },
   "source": [
    "print(s)"
   ],
   "outputs": [
    {
     "name": "stdout",
     "output_type": "stream",
     "text": [
      "{1, 2, 3, 4}\n"
     ]
    }
   ],
   "execution_count": 121
  },
  {
   "cell_type": "code",
   "metadata": {
    "ExecuteTime": {
     "end_time": "2024-07-19T20:49:23.450333Z",
     "start_time": "2024-07-19T20:49:23.446678Z"
    }
   },
   "source": [
    "print(len(s))\n",
    "print(s)\n",
    "print(10 in s)  # Sets are hash-based - search in set - O(1), in list - O(n)"
   ],
   "outputs": [
    {
     "name": "stdout",
     "output_type": "stream",
     "text": [
      "4\n",
      "{1, 2, 3, 4}\n",
      "False\n"
     ]
    }
   ],
   "execution_count": 122
  },
  {
   "cell_type": "code",
   "metadata": {
    "ExecuteTime": {
     "end_time": "2024-07-19T20:49:23.528468Z",
     "start_time": "2024-07-19T20:49:23.516366Z"
    }
   },
   "source": [
    "# Set cannot contain unhashable values -\n",
    "# those which are mutable or do not contain __hash__ method\n",
    "wrong_set = {[1], [2]}    "
   ],
   "outputs": [
    {
     "ename": "TypeError",
     "evalue": "unhashable type: 'list'",
     "output_type": "error",
     "traceback": [
      "\u001B[1;31m---------------------------------------------------------------------------\u001B[0m",
      "\u001B[1;31mTypeError\u001B[0m                                 Traceback (most recent call last)",
      "Cell \u001B[1;32mIn[123], line 3\u001B[0m\n\u001B[0;32m      1\u001B[0m \u001B[38;5;66;03m# Set cannot contain unhashable values -\u001B[39;00m\n\u001B[0;32m      2\u001B[0m \u001B[38;5;66;03m# those which are mutable or do not contain __hash__ method\u001B[39;00m\n\u001B[1;32m----> 3\u001B[0m wrong_set \u001B[38;5;241m=\u001B[39m {[\u001B[38;5;241m1\u001B[39m], [\u001B[38;5;241m2\u001B[39m]}    \n",
      "\u001B[1;31mTypeError\u001B[0m: unhashable type: 'list'"
     ]
    }
   ],
   "execution_count": 123
  },
  {
   "cell_type": "code",
   "metadata": {
    "ExecuteTime": {
     "end_time": "2024-07-19T20:49:23.553739Z",
     "start_time": "2024-07-19T20:49:23.542493Z"
    }
   },
   "source": "s[0]    # Set is unordered - this wouldn't work",
   "outputs": [
    {
     "ename": "TypeError",
     "evalue": "'set' object is not subscriptable",
     "output_type": "error",
     "traceback": [
      "\u001B[1;31m---------------------------------------------------------------------------\u001B[0m",
      "\u001B[1;31mTypeError\u001B[0m                                 Traceback (most recent call last)",
      "Cell \u001B[1;32mIn[124], line 1\u001B[0m\n\u001B[1;32m----> 1\u001B[0m \u001B[43ms\u001B[49m\u001B[43m[\u001B[49m\u001B[38;5;241;43m0\u001B[39;49m\u001B[43m]\u001B[49m    \u001B[38;5;66;03m# Set is unordered - this wouldn't work\u001B[39;00m\n",
      "\u001B[1;31mTypeError\u001B[0m: 'set' object is not subscriptable"
     ]
    }
   ],
   "execution_count": 124
  },
  {
   "cell_type": "code",
   "metadata": {
    "ExecuteTime": {
     "end_time": "2024-07-19T20:49:23.586569Z",
     "start_time": "2024-07-19T20:49:23.582749Z"
    }
   },
   "source": [
    "for it in s:\n",
    "    print(it)"
   ],
   "outputs": [
    {
     "name": "stdout",
     "output_type": "stream",
     "text": [
      "1\n",
      "2\n",
      "3\n",
      "4\n"
     ]
    }
   ],
   "execution_count": 125
  },
  {
   "cell_type": "code",
   "metadata": {
    "ExecuteTime": {
     "end_time": "2024-07-19T20:49:23.659312Z",
     "start_time": "2024-07-19T20:49:23.656011Z"
    }
   },
   "source": [
    "# Set can be used to remove duplicates from list\n",
    "s2 = set([1, 2, 4, 5, 6, 4, 3, 2, 1])   \n",
    "print(s2)"
   ],
   "outputs": [
    {
     "name": "stdout",
     "output_type": "stream",
     "text": [
      "{1, 2, 3, 4, 5, 6}\n"
     ]
    }
   ],
   "execution_count": 126
  },
  {
   "cell_type": "code",
   "metadata": {
    "ExecuteTime": {
     "end_time": "2024-07-19T20:49:23.737234Z",
     "start_time": "2024-07-19T20:49:23.733347Z"
    }
   },
   "source": [
    "s2.add(7) \n",
    "print(s2)"
   ],
   "outputs": [
    {
     "name": "stdout",
     "output_type": "stream",
     "text": [
      "{1, 2, 3, 4, 5, 6, 7}\n"
     ]
    }
   ],
   "execution_count": 127
  },
  {
   "cell_type": "code",
   "metadata": {
    "ExecuteTime": {
     "end_time": "2024-07-19T20:49:23.762737Z",
     "start_time": "2024-07-19T20:49:23.759254Z"
    }
   },
   "source": [
    "s2.add(7)"
   ],
   "outputs": [],
   "execution_count": 128
  },
  {
   "cell_type": "code",
   "metadata": {
    "ExecuteTime": {
     "end_time": "2024-07-19T20:49:23.803470Z",
     "start_time": "2024-07-19T20:49:23.799752Z"
    }
   },
   "source": [
    "print(s2)"
   ],
   "outputs": [
    {
     "name": "stdout",
     "output_type": "stream",
     "text": [
      "{1, 2, 3, 4, 5, 6, 7}\n"
     ]
    }
   ],
   "execution_count": 129
  },
  {
   "cell_type": "code",
   "metadata": {
    "ExecuteTime": {
     "end_time": "2024-07-19T20:49:23.886189Z",
     "start_time": "2024-07-19T20:49:23.882639Z"
    }
   },
   "source": [
    "s2.remove(2)    # Works O(1) - hash-based, in list this would take O(n)\n",
    "print(s2)"
   ],
   "outputs": [
    {
     "name": "stdout",
     "output_type": "stream",
     "text": [
      "{1, 3, 4, 5, 6, 7}\n"
     ]
    }
   ],
   "execution_count": 130
  },
  {
   "cell_type": "markdown",
   "metadata": {},
   "source": [
    "`set` operations in Python can be performed in two different ways: by operator or by method"
   ]
  },
  {
   "cell_type": "code",
   "metadata": {
    "ExecuteTime": {
     "end_time": "2024-07-19T20:49:23.909068Z",
     "start_time": "2024-07-19T20:49:23.905196Z"
    }
   },
   "source": [
    "a = {1, 2, 3}\n",
    "b = {3, 4}\n",
    "print(a - b)   # You can check diff between sets, but not for lists\n",
    "print((a - b) == a.difference(b))   # Or use method (but subtraction is more used)"
   ],
   "outputs": [
    {
     "name": "stdout",
     "output_type": "stream",
     "text": [
      "{1, 2}\n",
      "True\n"
     ]
    }
   ],
   "execution_count": 131
  },
  {
   "cell_type": "code",
   "metadata": {
    "ExecuteTime": {
     "end_time": "2024-07-19T20:49:23.947401Z",
     "start_time": "2024-07-19T20:49:23.944078Z"
    }
   },
   "source": [
    "print(a | b)     # Logical OR\n",
    "print(a.union(b))   # Method analogy\n",
    "print((a & b) == (a.intersection(b)))    # Logical AND"
   ],
   "outputs": [
    {
     "name": "stdout",
     "output_type": "stream",
     "text": [
      "{1, 2, 3, 4}\n",
      "{1, 2, 3, 4}\n",
      "True\n"
     ]
    }
   ],
   "execution_count": 132
  },
  {
   "cell_type": "code",
   "metadata": {
    "ExecuteTime": {
     "end_time": "2024-07-19T20:49:24.016455Z",
     "start_time": "2024-07-19T20:49:24.013419Z"
    }
   },
   "source": "s = frozenset((1, 2, 3, 4, 4))   # Unchangeable set - rarely used, but possible",
   "outputs": [],
   "execution_count": 133
  },
  {
   "cell_type": "code",
   "metadata": {
    "ExecuteTime": {
     "end_time": "2024-07-19T20:49:24.108065Z",
     "start_time": "2024-07-19T20:49:24.104975Z"
    }
   },
   "source": [
    "print(s)"
   ],
   "outputs": [
    {
     "name": "stdout",
     "output_type": "stream",
     "text": [
      "frozenset({1, 2, 3, 4})\n"
     ]
    }
   ],
   "execution_count": 134
  },
  {
   "cell_type": "code",
   "metadata": {
    "ExecuteTime": {
     "end_time": "2024-07-19T20:49:24.139797Z",
     "start_time": "2024-07-19T20:49:24.128093Z"
    }
   },
   "source": [
    "s.add(5)"
   ],
   "outputs": [
    {
     "ename": "AttributeError",
     "evalue": "'frozenset' object has no attribute 'add'",
     "output_type": "error",
     "traceback": [
      "\u001B[1;31m---------------------------------------------------------------------------\u001B[0m",
      "\u001B[1;31mAttributeError\u001B[0m                            Traceback (most recent call last)",
      "Cell \u001B[1;32mIn[135], line 1\u001B[0m\n\u001B[1;32m----> 1\u001B[0m \u001B[43ms\u001B[49m\u001B[38;5;241;43m.\u001B[39;49m\u001B[43madd\u001B[49m(\u001B[38;5;241m5\u001B[39m)\n",
      "\u001B[1;31mAttributeError\u001B[0m: 'frozenset' object has no attribute 'add'"
     ]
    }
   ],
   "execution_count": 135
  },
  {
   "cell_type": "markdown",
   "metadata": {},
   "source": [
    "## More about mutable/immutable objects and internal implementation of sequences"
   ]
  },
  {
   "cell_type": "code",
   "metadata": {
    "ExecuteTime": {
     "end_time": "2024-07-19T20:49:24.171261Z",
     "start_time": "2024-07-19T20:49:24.167806Z"
    }
   },
   "source": "x = [1, 2, 3, 4]",
   "outputs": [],
   "execution_count": 136
  },
  {
   "cell_type": "code",
   "metadata": {
    "ExecuteTime": {
     "end_time": "2024-07-19T20:49:24.225812Z",
     "start_time": "2024-07-19T20:49:24.222296Z"
    }
   },
   "source": [
    "print(id(x), x)"
   ],
   "outputs": [
    {
     "name": "stdout",
     "output_type": "stream",
     "text": [
      "2604777820672 [1, 2, 3, 4]\n"
     ]
    }
   ],
   "execution_count": 137
  },
  {
   "cell_type": "code",
   "metadata": {
    "ExecuteTime": {
     "end_time": "2024-07-19T20:49:24.305206Z",
     "start_time": "2024-07-19T20:49:24.300851Z"
    }
   },
   "source": [
    "# If change, start memory sector remains same \n",
    "# (python holds pointer to start of list)\n",
    "x.append(5)     \n",
    "print(id(x), x)   #"
   ],
   "outputs": [
    {
     "name": "stdout",
     "output_type": "stream",
     "text": [
      "2604777820672 [1, 2, 3, 4, 5]\n"
     ]
    }
   ],
   "execution_count": 138
  },
  {
   "cell_type": "code",
   "metadata": {
    "ExecuteTime": {
     "end_time": "2024-07-19T20:49:24.330373Z",
     "start_time": "2024-07-19T20:49:24.326220Z"
    }
   },
   "source": [
    "x = (1, 2, 3, 4)    # If reassign, then it's new memory sector\n",
    "print(id(x), x)"
   ],
   "outputs": [
    {
     "name": "stdout",
     "output_type": "stream",
     "text": [
      "2604777722224 (1, 2, 3, 4)\n"
     ]
    }
   ],
   "execution_count": 139
  },
  {
   "cell_type": "code",
   "metadata": {
    "ExecuteTime": {
     "end_time": "2024-07-19T20:49:24.360212Z",
     "start_time": "2024-07-19T20:49:24.357381Z"
    }
   },
   "source": [
    "# It is reassigned, because we cannot += to tuple \n",
    "# (better not use such notation)\n",
    "x = x + (5,)    \n",
    "print(id(x), x)"
   ],
   "outputs": [
    {
     "name": "stdout",
     "output_type": "stream",
     "text": [
      "2604777724144 (1, 2, 3, 4, 5)\n"
     ]
    }
   ],
   "execution_count": 140
  },
  {
   "cell_type": "code",
   "metadata": {
    "ExecuteTime": {
     "end_time": "2024-07-19T20:49:24.470841Z",
     "start_time": "2024-07-19T20:49:24.467051Z"
    }
   },
   "source": [
    "a = ['a', 'b', 'c']\n",
    "b = a       # a and b point to same start memory sector\n",
    "print(a, b)\n",
    "print(a == b)\n",
    "print(a is b)\n",
    "print(id(a), id(b))"
   ],
   "outputs": [
    {
     "name": "stdout",
     "output_type": "stream",
     "text": [
      "['a', 'b', 'c'] ['a', 'b', 'c']\n",
      "True\n",
      "True\n",
      "2604777576320 2604777576320\n"
     ]
    }
   ],
   "execution_count": 141
  },
  {
   "cell_type": "code",
   "metadata": {
    "ExecuteTime": {
     "end_time": "2024-07-19T20:49:24.552117Z",
     "start_time": "2024-07-19T20:49:24.546868Z"
    }
   },
   "source": [
    "print(id(a[0]), id(a[1]), id(a[2]))"
   ],
   "outputs": [
    {
     "name": "stdout",
     "output_type": "stream",
     "text": [
      "140710631275744 140710631276800 140710631277728\n"
     ]
    }
   ],
   "execution_count": 142
  },
  {
   "cell_type": "code",
   "metadata": {
    "ExecuteTime": {
     "end_time": "2024-07-19T20:49:24.579207Z",
     "start_time": "2024-07-19T20:49:24.575124Z"
    }
   },
   "source": [
    "b[0] = 'A'\n",
    "print(a, b)"
   ],
   "outputs": [
    {
     "name": "stdout",
     "output_type": "stream",
     "text": [
      "['A', 'b', 'c'] ['A', 'b', 'c']\n"
     ]
    }
   ],
   "execution_count": 143
  },
  {
   "cell_type": "code",
   "metadata": {
    "ExecuteTime": {
     "end_time": "2024-07-19T20:49:24.653798Z",
     "start_time": "2024-07-19T20:49:24.650226Z"
    }
   },
   "source": [
    "a2 = ['a', 'b', 'c']\n",
    "b2 = ['a', 'b', 'c']\n",
    "print(a2, b2)\n",
    "print(a2 == b2)\n",
    "print(id(a2), id(b2))\n",
    "print(a2 is b2)"
   ],
   "outputs": [
    {
     "name": "stdout",
     "output_type": "stream",
     "text": [
      "['a', 'b', 'c'] ['a', 'b', 'c']\n",
      "True\n",
      "2604771346176 2604777574336\n",
      "False\n"
     ]
    }
   ],
   "execution_count": 144
  },
  {
   "cell_type": "code",
   "metadata": {
    "ExecuteTime": {
     "end_time": "2024-07-19T20:49:24.697562Z",
     "start_time": "2024-07-19T20:49:24.693830Z"
    }
   },
   "source": [
    "b2[0] = 'A'\n",
    "print(a2, b2)"
   ],
   "outputs": [
    {
     "name": "stdout",
     "output_type": "stream",
     "text": [
      "['a', 'b', 'c'] ['A', 'b', 'c']\n"
     ]
    }
   ],
   "execution_count": 145
  },
  {
   "cell_type": "code",
   "metadata": {
    "ExecuteTime": {
     "end_time": "2024-07-19T20:49:24.767582Z",
     "start_time": "2024-07-19T20:49:24.763596Z"
    }
   },
   "source": [
    "x = [10, 1.0, 4, 0, -5]\n",
    "print(x)"
   ],
   "outputs": [
    {
     "name": "stdout",
     "output_type": "stream",
     "text": [
      "[10, 1.0, 4, 0, -5]\n"
     ]
    }
   ],
   "execution_count": 146
  },
  {
   "cell_type": "code",
   "metadata": {
    "ExecuteTime": {
     "end_time": "2024-07-19T20:49:24.836074Z",
     "start_time": "2024-07-19T20:49:24.832603Z"
    }
   },
   "source": [
    "print('sorted', sorted(x))     # Sorted will return new list\n",
    "print('original', x)"
   ],
   "outputs": [
    {
     "name": "stdout",
     "output_type": "stream",
     "text": [
      "sorted [-5, 0, 1.0, 4, 10]\n",
      "original [10, 1.0, 4, 0, -5]\n"
     ]
    }
   ],
   "execution_count": 147
  },
  {
   "cell_type": "code",
   "metadata": {
    "ExecuteTime": {
     "end_time": "2024-07-19T20:49:24.936678Z",
     "start_time": "2024-07-19T20:49:24.933105Z"
    }
   },
   "source": [
    "x.sort()\n",
    "print(x)"
   ],
   "outputs": [
    {
     "name": "stdout",
     "output_type": "stream",
     "text": [
      "[-5, 0, 1.0, 4, 10]\n"
     ]
    }
   ],
   "execution_count": 148
  },
  {
   "cell_type": "code",
   "metadata": {
    "ExecuteTime": {
     "end_time": "2024-07-19T20:49:24.984438Z",
     "start_time": "2024-07-19T20:49:24.981395Z"
    }
   },
   "source": [
    "y = (10, 1.0, 4, 0, -5)\n",
    "print(sorted(y), type(sorted(y)))    # Tuple is immutable, converts to list\n",
    "print(y)"
   ],
   "outputs": [
    {
     "name": "stdout",
     "output_type": "stream",
     "text": [
      "[-5, 0, 1.0, 4, 10] <class 'list'>\n",
      "(10, 1.0, 4, 0, -5)\n"
     ]
    }
   ],
   "execution_count": 149
  },
  {
   "cell_type": "code",
   "metadata": {
    "ExecuteTime": {
     "end_time": "2024-07-19T20:49:25.082028Z",
     "start_time": "2024-07-19T20:49:25.071720Z"
    }
   },
   "source": "y.sort()      # Will sort in-place",
   "outputs": [
    {
     "ename": "AttributeError",
     "evalue": "'tuple' object has no attribute 'sort'",
     "output_type": "error",
     "traceback": [
      "\u001B[1;31m---------------------------------------------------------------------------\u001B[0m",
      "\u001B[1;31mAttributeError\u001B[0m                            Traceback (most recent call last)",
      "Cell \u001B[1;32mIn[150], line 1\u001B[0m\n\u001B[1;32m----> 1\u001B[0m \u001B[43my\u001B[49m\u001B[38;5;241;43m.\u001B[39;49m\u001B[43msort\u001B[49m()      \u001B[38;5;66;03m# Will sort in-place\u001B[39;00m\n",
      "\u001B[1;31mAttributeError\u001B[0m: 'tuple' object has no attribute 'sort'"
     ]
    }
   ],
   "execution_count": 150
  },
  {
   "cell_type": "code",
   "metadata": {
    "ExecuteTime": {
     "end_time": "2024-07-19T20:49:25.105475Z",
     "start_time": "2024-07-19T20:49:25.101589Z"
    }
   },
   "source": [
    "a = ['a', 1, True]\n",
    "b = a[:]    # Copying of list with slicing\n",
    "print(a, b, sep='\\n')"
   ],
   "outputs": [
    {
     "name": "stdout",
     "output_type": "stream",
     "text": [
      "['a', 1, True]\n",
      "['a', 1, True]\n"
     ]
    }
   ],
   "execution_count": 151
  },
  {
   "cell_type": "code",
   "metadata": {
    "ExecuteTime": {
     "end_time": "2024-07-19T20:49:25.156370Z",
     "start_time": "2024-07-19T20:49:25.152577Z"
    }
   },
   "source": [
    "print(id(a), id(b))"
   ],
   "outputs": [
    {
     "name": "stdout",
     "output_type": "stream",
     "text": [
      "2604777794368 2604777952832\n"
     ]
    }
   ],
   "execution_count": 152
  },
  {
   "cell_type": "code",
   "metadata": {
    "ExecuteTime": {
     "end_time": "2024-07-19T20:49:25.237183Z",
     "start_time": "2024-07-19T20:49:25.233403Z"
    }
   },
   "source": [
    "b[0] = 101\n",
    "print(a, b, sep='\\n')"
   ],
   "outputs": [
    {
     "name": "stdout",
     "output_type": "stream",
     "text": [
      "['a', 1, True]\n",
      "[101, 1, True]\n"
     ]
    }
   ],
   "execution_count": 153
  },
  {
   "cell_type": "code",
   "metadata": {
    "ExecuteTime": {
     "end_time": "2024-07-19T20:49:25.301092Z",
     "start_time": "2024-07-19T20:49:25.297209Z"
    }
   },
   "source": [
    "c = a.copy()\n",
    "print(c)"
   ],
   "outputs": [
    {
     "name": "stdout",
     "output_type": "stream",
     "text": [
      "['a', 1, True]\n"
     ]
    }
   ],
   "execution_count": 154
  },
  {
   "cell_type": "code",
   "metadata": {
    "ExecuteTime": {
     "end_time": "2024-07-19T20:49:25.340959Z",
     "start_time": "2024-07-19T20:49:25.338118Z"
    }
   },
   "source": [
    "c[0] = 'GOOD'\n",
    "print(c, a, sep='\\n')"
   ],
   "outputs": [
    {
     "name": "stdout",
     "output_type": "stream",
     "text": [
      "['GOOD', 1, True]\n",
      "['a', 1, True]\n"
     ]
    }
   ],
   "execution_count": 155
  },
  {
   "cell_type": "code",
   "metadata": {
    "ExecuteTime": {
     "end_time": "2024-07-19T20:49:25.418450Z",
     "start_time": "2024-07-19T20:49:25.414982Z"
    }
   },
   "source": "l = [1, 3, 4, ['hello', 'nested', 'list', [True, False]]]",
   "outputs": [],
   "execution_count": 156
  },
  {
   "cell_type": "code",
   "metadata": {
    "ExecuteTime": {
     "end_time": "2024-07-19T20:49:25.443595Z",
     "start_time": "2024-07-19T20:49:25.439464Z"
    }
   },
   "source": [
    "print(l)"
   ],
   "outputs": [
    {
     "name": "stdout",
     "output_type": "stream",
     "text": [
      "[1, 3, 4, ['hello', 'nested', 'list', [True, False]]]\n"
     ]
    }
   ],
   "execution_count": 157
  },
  {
   "cell_type": "code",
   "metadata": {
    "ExecuteTime": {
     "end_time": "2024-07-19T20:49:25.521815Z",
     "start_time": "2024-07-19T20:49:25.517472Z"
    }
   },
   "source": [
    "l[3][3][0] = 'Wrong'      # Access to nested objects with [][][] notation\n",
    "print(l)"
   ],
   "outputs": [
    {
     "name": "stdout",
     "output_type": "stream",
     "text": [
      "[1, 3, 4, ['hello', 'nested', 'list', ['Wrong', False]]]\n"
     ]
    }
   ],
   "execution_count": 158
  },
  {
   "cell_type": "code",
   "metadata": {
    "ExecuteTime": {
     "end_time": "2024-07-19T20:49:25.559429Z",
     "start_time": "2024-07-19T20:49:25.555833Z"
    }
   },
   "source": [
    "c = [True, False]\n",
    "b = ['hello', 'nested', 'list', c]\n",
    "a = [1, 2, 4, b]\n",
    "print(a)"
   ],
   "outputs": [
    {
     "name": "stdout",
     "output_type": "stream",
     "text": [
      "[1, 2, 4, ['hello', 'nested', 'list', [True, False]]]\n"
     ]
    }
   ],
   "execution_count": 159
  },
  {
   "cell_type": "code",
   "metadata": {
    "ExecuteTime": {
     "end_time": "2024-07-19T20:49:25.621690Z",
     "start_time": "2024-07-19T20:49:25.617653Z"
    }
   },
   "source": [
    "c[0] = 'Wrong'\n",
    "print(a)"
   ],
   "outputs": [
    {
     "name": "stdout",
     "output_type": "stream",
     "text": [
      "[1, 2, 4, ['hello', 'nested', 'list', ['Wrong', False]]]\n"
     ]
    }
   ],
   "execution_count": 160
  },
  {
   "cell_type": "code",
   "metadata": {
    "ExecuteTime": {
     "end_time": "2024-07-19T20:49:25.691909Z",
     "start_time": "2024-07-19T20:49:25.687785Z"
    }
   },
   "source": [
    "new_a = a.copy()\n",
    "c[0] = 'HELLO'     # If we change something in one list, it will be shown on other\n",
    "print(new_a)\n",
    "print(a)"
   ],
   "outputs": [
    {
     "name": "stdout",
     "output_type": "stream",
     "text": [
      "[1, 2, 4, ['hello', 'nested', 'list', ['HELLO', False]]]\n",
      "[1, 2, 4, ['hello', 'nested', 'list', ['HELLO', False]]]\n"
     ]
    }
   ],
   "execution_count": 161
  },
  {
   "cell_type": "code",
   "metadata": {
    "ExecuteTime": {
     "end_time": "2024-07-19T20:49:25.759682Z",
     "start_time": "2024-07-19T20:49:25.755979Z"
    }
   },
   "source": [
    "import copy"
   ],
   "outputs": [],
   "execution_count": 162
  },
  {
   "cell_type": "code",
   "metadata": {
    "ExecuteTime": {
     "end_time": "2024-07-19T20:49:25.810776Z",
     "start_time": "2024-07-19T20:49:25.807705Z"
    }
   },
   "source": [
    "new_a = copy.deepcopy(a)    # For removing such cases, deepcopy is used\n",
    "print(new_a)"
   ],
   "outputs": [
    {
     "name": "stdout",
     "output_type": "stream",
     "text": [
      "[1, 2, 4, ['hello', 'nested', 'list', ['HELLO', False]]]\n"
     ]
    }
   ],
   "execution_count": 163
  },
  {
   "cell_type": "code",
   "metadata": {
    "ExecuteTime": {
     "end_time": "2024-07-19T20:49:25.884222Z",
     "start_time": "2024-07-19T20:49:25.879810Z"
    }
   },
   "source": [
    "c[0] = 'Test'\n",
    "print(new_a)\n",
    "print(a)"
   ],
   "outputs": [
    {
     "name": "stdout",
     "output_type": "stream",
     "text": [
      "[1, 2, 4, ['hello', 'nested', 'list', ['HELLO', False]]]\n",
      "[1, 2, 4, ['hello', 'nested', 'list', ['Test', False]]]\n"
     ]
    }
   ],
   "execution_count": 164
  },
  {
   "cell_type": "code",
   "metadata": {
    "ExecuteTime": {
     "end_time": "2024-07-19T20:49:25.935456Z",
     "start_time": "2024-07-19T20:49:25.931252Z"
    }
   },
   "source": [
    "a[3][3][0] = 'TEST1'"
   ],
   "outputs": [],
   "execution_count": 165
  },
  {
   "cell_type": "code",
   "metadata": {
    "scrolled": true,
    "ExecuteTime": {
     "end_time": "2024-07-19T20:49:26.006768Z",
     "start_time": "2024-07-19T20:49:26.003474Z"
    }
   },
   "source": [
    "print(new_a)\n",
    "print(a)"
   ],
   "outputs": [
    {
     "name": "stdout",
     "output_type": "stream",
     "text": [
      "[1, 2, 4, ['hello', 'nested', 'list', ['HELLO', False]]]\n",
      "[1, 2, 4, ['hello', 'nested', 'list', ['TEST1', False]]]\n"
     ]
    }
   ],
   "execution_count": 166
  }
 ],
 "metadata": {
  "kernelspec": {
   "display_name": "Python 3",
   "language": "python",
   "name": "python3"
  },
  "language_info": {
   "codemirror_mode": {
    "name": "ipython",
    "version": 3
   },
   "file_extension": ".py",
   "mimetype": "text/x-python",
   "name": "python",
   "nbconvert_exporter": "python",
   "pygments_lexer": "ipython3",
   "version": "3.7.4"
  }
 },
 "nbformat": 4,
 "nbformat_minor": 2
}
